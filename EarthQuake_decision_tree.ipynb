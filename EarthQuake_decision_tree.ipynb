{
  "nbformat": 4,
  "nbformat_minor": 0,
  "metadata": {
    "colab": {
      "name": "EarthQuake_decision_tree.ipynb",
      "provenance": [],
      "authorship_tag": "ABX9TyPGShktzqIMTtXlFqm9E5ZO",
      "include_colab_link": true
    },
    "kernelspec": {
      "name": "python3",
      "display_name": "Python 3"
    }
  },
  "cells": [
    {
      "cell_type": "markdown",
      "metadata": {
        "id": "view-in-github",
        "colab_type": "text"
      },
      "source": [
        "<a href=\"https://colab.research.google.com/github/shashankbhagat/Earthquake-Prediction/blob/master/EarthQuake_decision_tree.ipynb\" target=\"_parent\"><img src=\"https://colab.research.google.com/assets/colab-badge.svg\" alt=\"Open In Colab\"/></a>"
      ]
    },
    {
      "cell_type": "code",
      "metadata": {
        "id": "o15chZIysXEE",
        "colab_type": "code",
        "colab": {}
      },
      "source": [
        "import numpy as np\n",
        "import pandas as pd\n",
        "import matplotlib.pyplot as plt\n",
        "import os\n",
        "pd.set_option('display.max_columns',None)"
      ],
      "execution_count": 1,
      "outputs": []
    },
    {
      "cell_type": "code",
      "metadata": {
        "id": "JGmw5dI3sud_",
        "colab_type": "code",
        "colab": {
          "base_uri": "https://localhost:8080/",
          "height": 257
        },
        "outputId": "253b3d64-745d-4d68-8a4c-2b3a020e348e"
      },
      "source": [
        "data=pd.read_csv('database.csv')\n",
        "data.head()"
      ],
      "execution_count": 34,
      "outputs": [
        {
          "output_type": "execute_result",
          "data": {
            "text/html": [
              "<div>\n",
              "<style scoped>\n",
              "    .dataframe tbody tr th:only-of-type {\n",
              "        vertical-align: middle;\n",
              "    }\n",
              "\n",
              "    .dataframe tbody tr th {\n",
              "        vertical-align: top;\n",
              "    }\n",
              "\n",
              "    .dataframe thead th {\n",
              "        text-align: right;\n",
              "    }\n",
              "</style>\n",
              "<table border=\"1\" class=\"dataframe\">\n",
              "  <thead>\n",
              "    <tr style=\"text-align: right;\">\n",
              "      <th></th>\n",
              "      <th>Date</th>\n",
              "      <th>Time</th>\n",
              "      <th>Latitude</th>\n",
              "      <th>Longitude</th>\n",
              "      <th>Type</th>\n",
              "      <th>Depth</th>\n",
              "      <th>Depth Error</th>\n",
              "      <th>Depth Seismic Stations</th>\n",
              "      <th>Magnitude</th>\n",
              "      <th>Magnitude Type</th>\n",
              "      <th>Magnitude Error</th>\n",
              "      <th>Magnitude Seismic Stations</th>\n",
              "      <th>Azimuthal Gap</th>\n",
              "      <th>Horizontal Distance</th>\n",
              "      <th>Horizontal Error</th>\n",
              "      <th>Root Mean Square</th>\n",
              "      <th>ID</th>\n",
              "      <th>Source</th>\n",
              "      <th>Location Source</th>\n",
              "      <th>Magnitude Source</th>\n",
              "      <th>Status</th>\n",
              "    </tr>\n",
              "  </thead>\n",
              "  <tbody>\n",
              "    <tr>\n",
              "      <th>0</th>\n",
              "      <td>01/02/1965</td>\n",
              "      <td>13:44:18</td>\n",
              "      <td>19.246</td>\n",
              "      <td>145.616</td>\n",
              "      <td>Earthquake</td>\n",
              "      <td>131.6</td>\n",
              "      <td>NaN</td>\n",
              "      <td>NaN</td>\n",
              "      <td>6.0</td>\n",
              "      <td>MW</td>\n",
              "      <td>NaN</td>\n",
              "      <td>NaN</td>\n",
              "      <td>NaN</td>\n",
              "      <td>NaN</td>\n",
              "      <td>NaN</td>\n",
              "      <td>NaN</td>\n",
              "      <td>ISCGEM860706</td>\n",
              "      <td>ISCGEM</td>\n",
              "      <td>ISCGEM</td>\n",
              "      <td>ISCGEM</td>\n",
              "      <td>Automatic</td>\n",
              "    </tr>\n",
              "    <tr>\n",
              "      <th>1</th>\n",
              "      <td>01/04/1965</td>\n",
              "      <td>11:29:49</td>\n",
              "      <td>1.863</td>\n",
              "      <td>127.352</td>\n",
              "      <td>Earthquake</td>\n",
              "      <td>80.0</td>\n",
              "      <td>NaN</td>\n",
              "      <td>NaN</td>\n",
              "      <td>5.8</td>\n",
              "      <td>MW</td>\n",
              "      <td>NaN</td>\n",
              "      <td>NaN</td>\n",
              "      <td>NaN</td>\n",
              "      <td>NaN</td>\n",
              "      <td>NaN</td>\n",
              "      <td>NaN</td>\n",
              "      <td>ISCGEM860737</td>\n",
              "      <td>ISCGEM</td>\n",
              "      <td>ISCGEM</td>\n",
              "      <td>ISCGEM</td>\n",
              "      <td>Automatic</td>\n",
              "    </tr>\n",
              "    <tr>\n",
              "      <th>2</th>\n",
              "      <td>01/05/1965</td>\n",
              "      <td>18:05:58</td>\n",
              "      <td>-20.579</td>\n",
              "      <td>-173.972</td>\n",
              "      <td>Earthquake</td>\n",
              "      <td>20.0</td>\n",
              "      <td>NaN</td>\n",
              "      <td>NaN</td>\n",
              "      <td>6.2</td>\n",
              "      <td>MW</td>\n",
              "      <td>NaN</td>\n",
              "      <td>NaN</td>\n",
              "      <td>NaN</td>\n",
              "      <td>NaN</td>\n",
              "      <td>NaN</td>\n",
              "      <td>NaN</td>\n",
              "      <td>ISCGEM860762</td>\n",
              "      <td>ISCGEM</td>\n",
              "      <td>ISCGEM</td>\n",
              "      <td>ISCGEM</td>\n",
              "      <td>Automatic</td>\n",
              "    </tr>\n",
              "    <tr>\n",
              "      <th>3</th>\n",
              "      <td>01/08/1965</td>\n",
              "      <td>18:49:43</td>\n",
              "      <td>-59.076</td>\n",
              "      <td>-23.557</td>\n",
              "      <td>Earthquake</td>\n",
              "      <td>15.0</td>\n",
              "      <td>NaN</td>\n",
              "      <td>NaN</td>\n",
              "      <td>5.8</td>\n",
              "      <td>MW</td>\n",
              "      <td>NaN</td>\n",
              "      <td>NaN</td>\n",
              "      <td>NaN</td>\n",
              "      <td>NaN</td>\n",
              "      <td>NaN</td>\n",
              "      <td>NaN</td>\n",
              "      <td>ISCGEM860856</td>\n",
              "      <td>ISCGEM</td>\n",
              "      <td>ISCGEM</td>\n",
              "      <td>ISCGEM</td>\n",
              "      <td>Automatic</td>\n",
              "    </tr>\n",
              "    <tr>\n",
              "      <th>4</th>\n",
              "      <td>01/09/1965</td>\n",
              "      <td>13:32:50</td>\n",
              "      <td>11.938</td>\n",
              "      <td>126.427</td>\n",
              "      <td>Earthquake</td>\n",
              "      <td>15.0</td>\n",
              "      <td>NaN</td>\n",
              "      <td>NaN</td>\n",
              "      <td>5.8</td>\n",
              "      <td>MW</td>\n",
              "      <td>NaN</td>\n",
              "      <td>NaN</td>\n",
              "      <td>NaN</td>\n",
              "      <td>NaN</td>\n",
              "      <td>NaN</td>\n",
              "      <td>NaN</td>\n",
              "      <td>ISCGEM860890</td>\n",
              "      <td>ISCGEM</td>\n",
              "      <td>ISCGEM</td>\n",
              "      <td>ISCGEM</td>\n",
              "      <td>Automatic</td>\n",
              "    </tr>\n",
              "  </tbody>\n",
              "</table>\n",
              "</div>"
            ],
            "text/plain": [
              "         Date      Time  Latitude  Longitude        Type  Depth  Depth Error  \\\n",
              "0  01/02/1965  13:44:18    19.246    145.616  Earthquake  131.6          NaN   \n",
              "1  01/04/1965  11:29:49     1.863    127.352  Earthquake   80.0          NaN   \n",
              "2  01/05/1965  18:05:58   -20.579   -173.972  Earthquake   20.0          NaN   \n",
              "3  01/08/1965  18:49:43   -59.076    -23.557  Earthquake   15.0          NaN   \n",
              "4  01/09/1965  13:32:50    11.938    126.427  Earthquake   15.0          NaN   \n",
              "\n",
              "   Depth Seismic Stations  Magnitude Magnitude Type  Magnitude Error  \\\n",
              "0                     NaN        6.0             MW              NaN   \n",
              "1                     NaN        5.8             MW              NaN   \n",
              "2                     NaN        6.2             MW              NaN   \n",
              "3                     NaN        5.8             MW              NaN   \n",
              "4                     NaN        5.8             MW              NaN   \n",
              "\n",
              "   Magnitude Seismic Stations  Azimuthal Gap  Horizontal Distance  \\\n",
              "0                         NaN            NaN                  NaN   \n",
              "1                         NaN            NaN                  NaN   \n",
              "2                         NaN            NaN                  NaN   \n",
              "3                         NaN            NaN                  NaN   \n",
              "4                         NaN            NaN                  NaN   \n",
              "\n",
              "   Horizontal Error  Root Mean Square            ID  Source Location Source  \\\n",
              "0               NaN               NaN  ISCGEM860706  ISCGEM          ISCGEM   \n",
              "1               NaN               NaN  ISCGEM860737  ISCGEM          ISCGEM   \n",
              "2               NaN               NaN  ISCGEM860762  ISCGEM          ISCGEM   \n",
              "3               NaN               NaN  ISCGEM860856  ISCGEM          ISCGEM   \n",
              "4               NaN               NaN  ISCGEM860890  ISCGEM          ISCGEM   \n",
              "\n",
              "  Magnitude Source     Status  \n",
              "0           ISCGEM  Automatic  \n",
              "1           ISCGEM  Automatic  \n",
              "2           ISCGEM  Automatic  \n",
              "3           ISCGEM  Automatic  \n",
              "4           ISCGEM  Automatic  "
            ]
          },
          "metadata": {
            "tags": []
          },
          "execution_count": 34
        }
      ]
    },
    {
      "cell_type": "code",
      "metadata": {
        "id": "NB47cNdZsxdK",
        "colab_type": "code",
        "colab": {
          "base_uri": "https://localhost:8080/",
          "height": 399
        },
        "outputId": "ca14fbf6-eca3-4571-dd2e-2ce1c962f4da"
      },
      "source": [
        "data.dtypes"
      ],
      "execution_count": 35,
      "outputs": [
        {
          "output_type": "execute_result",
          "data": {
            "text/plain": [
              "Date                           object\n",
              "Time                           object\n",
              "Latitude                      float64\n",
              "Longitude                     float64\n",
              "Type                           object\n",
              "Depth                         float64\n",
              "Depth Error                   float64\n",
              "Depth Seismic Stations        float64\n",
              "Magnitude                     float64\n",
              "Magnitude Type                 object\n",
              "Magnitude Error               float64\n",
              "Magnitude Seismic Stations    float64\n",
              "Azimuthal Gap                 float64\n",
              "Horizontal Distance           float64\n",
              "Horizontal Error              float64\n",
              "Root Mean Square              float64\n",
              "ID                             object\n",
              "Source                         object\n",
              "Location Source                object\n",
              "Magnitude Source               object\n",
              "Status                         object\n",
              "dtype: object"
            ]
          },
          "metadata": {
            "tags": []
          },
          "execution_count": 35
        }
      ]
    },
    {
      "cell_type": "markdown",
      "metadata": {
        "id": "lBu1ywMkumlC",
        "colab_type": "text"
      },
      "source": [
        "# Data Analysis"
      ]
    },
    {
      "cell_type": "markdown",
      "metadata": {
        "id": "ieormtgMvEJU",
        "colab_type": "text"
      },
      "source": [
        "Before starting with the analysis, we would be scaling the input. Espicially the Date and Time fields to Unix time which is in seconds."
      ]
    },
    {
      "cell_type": "code",
      "metadata": {
        "id": "zjLi5xwruq6e",
        "colab_type": "code",
        "colab": {}
      },
      "source": [
        "import datetime\n",
        "import time\n",
        "\n",
        "timestamp=[]\n",
        "for d,t in zip(data['Date'],data['Time']):\n",
        "    try:\n",
        "        ts=datetime.datetime.strptime(d+' '+t,'%m/%d/%Y %H:%M:%S')\n",
        "        timestamp.append(time.mktime(ts.timetuple()))\n",
        "    except ValueError:\n",
        "        timestamp.append('ValueError')"
      ],
      "execution_count": 36,
      "outputs": []
    },
    {
      "cell_type": "code",
      "metadata": {
        "id": "F3J7QIQjvkSZ",
        "colab_type": "code",
        "colab": {
          "base_uri": "https://localhost:8080/",
          "height": 257
        },
        "outputId": "5407e4ef-ec30-474d-e5b5-603984d4f5c8"
      },
      "source": [
        "data['TimeStamp']=timestamp\n",
        "data.drop(columns=['Date','Time'],axis=1,inplace=True)\n",
        "data.head()"
      ],
      "execution_count": 37,
      "outputs": [
        {
          "output_type": "execute_result",
          "data": {
            "text/html": [
              "<div>\n",
              "<style scoped>\n",
              "    .dataframe tbody tr th:only-of-type {\n",
              "        vertical-align: middle;\n",
              "    }\n",
              "\n",
              "    .dataframe tbody tr th {\n",
              "        vertical-align: top;\n",
              "    }\n",
              "\n",
              "    .dataframe thead th {\n",
              "        text-align: right;\n",
              "    }\n",
              "</style>\n",
              "<table border=\"1\" class=\"dataframe\">\n",
              "  <thead>\n",
              "    <tr style=\"text-align: right;\">\n",
              "      <th></th>\n",
              "      <th>Latitude</th>\n",
              "      <th>Longitude</th>\n",
              "      <th>Type</th>\n",
              "      <th>Depth</th>\n",
              "      <th>Depth Error</th>\n",
              "      <th>Depth Seismic Stations</th>\n",
              "      <th>Magnitude</th>\n",
              "      <th>Magnitude Type</th>\n",
              "      <th>Magnitude Error</th>\n",
              "      <th>Magnitude Seismic Stations</th>\n",
              "      <th>Azimuthal Gap</th>\n",
              "      <th>Horizontal Distance</th>\n",
              "      <th>Horizontal Error</th>\n",
              "      <th>Root Mean Square</th>\n",
              "      <th>ID</th>\n",
              "      <th>Source</th>\n",
              "      <th>Location Source</th>\n",
              "      <th>Magnitude Source</th>\n",
              "      <th>Status</th>\n",
              "      <th>TimeStamp</th>\n",
              "    </tr>\n",
              "  </thead>\n",
              "  <tbody>\n",
              "    <tr>\n",
              "      <th>0</th>\n",
              "      <td>19.246</td>\n",
              "      <td>145.616</td>\n",
              "      <td>Earthquake</td>\n",
              "      <td>131.6</td>\n",
              "      <td>NaN</td>\n",
              "      <td>NaN</td>\n",
              "      <td>6.0</td>\n",
              "      <td>MW</td>\n",
              "      <td>NaN</td>\n",
              "      <td>NaN</td>\n",
              "      <td>NaN</td>\n",
              "      <td>NaN</td>\n",
              "      <td>NaN</td>\n",
              "      <td>NaN</td>\n",
              "      <td>ISCGEM860706</td>\n",
              "      <td>ISCGEM</td>\n",
              "      <td>ISCGEM</td>\n",
              "      <td>ISCGEM</td>\n",
              "      <td>Automatic</td>\n",
              "      <td>-1.57631e+08</td>\n",
              "    </tr>\n",
              "    <tr>\n",
              "      <th>1</th>\n",
              "      <td>1.863</td>\n",
              "      <td>127.352</td>\n",
              "      <td>Earthquake</td>\n",
              "      <td>80.0</td>\n",
              "      <td>NaN</td>\n",
              "      <td>NaN</td>\n",
              "      <td>5.8</td>\n",
              "      <td>MW</td>\n",
              "      <td>NaN</td>\n",
              "      <td>NaN</td>\n",
              "      <td>NaN</td>\n",
              "      <td>NaN</td>\n",
              "      <td>NaN</td>\n",
              "      <td>NaN</td>\n",
              "      <td>ISCGEM860737</td>\n",
              "      <td>ISCGEM</td>\n",
              "      <td>ISCGEM</td>\n",
              "      <td>ISCGEM</td>\n",
              "      <td>Automatic</td>\n",
              "      <td>-1.57466e+08</td>\n",
              "    </tr>\n",
              "    <tr>\n",
              "      <th>2</th>\n",
              "      <td>-20.579</td>\n",
              "      <td>-173.972</td>\n",
              "      <td>Earthquake</td>\n",
              "      <td>20.0</td>\n",
              "      <td>NaN</td>\n",
              "      <td>NaN</td>\n",
              "      <td>6.2</td>\n",
              "      <td>MW</td>\n",
              "      <td>NaN</td>\n",
              "      <td>NaN</td>\n",
              "      <td>NaN</td>\n",
              "      <td>NaN</td>\n",
              "      <td>NaN</td>\n",
              "      <td>NaN</td>\n",
              "      <td>ISCGEM860762</td>\n",
              "      <td>ISCGEM</td>\n",
              "      <td>ISCGEM</td>\n",
              "      <td>ISCGEM</td>\n",
              "      <td>Automatic</td>\n",
              "      <td>-1.57356e+08</td>\n",
              "    </tr>\n",
              "    <tr>\n",
              "      <th>3</th>\n",
              "      <td>-59.076</td>\n",
              "      <td>-23.557</td>\n",
              "      <td>Earthquake</td>\n",
              "      <td>15.0</td>\n",
              "      <td>NaN</td>\n",
              "      <td>NaN</td>\n",
              "      <td>5.8</td>\n",
              "      <td>MW</td>\n",
              "      <td>NaN</td>\n",
              "      <td>NaN</td>\n",
              "      <td>NaN</td>\n",
              "      <td>NaN</td>\n",
              "      <td>NaN</td>\n",
              "      <td>NaN</td>\n",
              "      <td>ISCGEM860856</td>\n",
              "      <td>ISCGEM</td>\n",
              "      <td>ISCGEM</td>\n",
              "      <td>ISCGEM</td>\n",
              "      <td>Automatic</td>\n",
              "      <td>-1.57094e+08</td>\n",
              "    </tr>\n",
              "    <tr>\n",
              "      <th>4</th>\n",
              "      <td>11.938</td>\n",
              "      <td>126.427</td>\n",
              "      <td>Earthquake</td>\n",
              "      <td>15.0</td>\n",
              "      <td>NaN</td>\n",
              "      <td>NaN</td>\n",
              "      <td>5.8</td>\n",
              "      <td>MW</td>\n",
              "      <td>NaN</td>\n",
              "      <td>NaN</td>\n",
              "      <td>NaN</td>\n",
              "      <td>NaN</td>\n",
              "      <td>NaN</td>\n",
              "      <td>NaN</td>\n",
              "      <td>ISCGEM860890</td>\n",
              "      <td>ISCGEM</td>\n",
              "      <td>ISCGEM</td>\n",
              "      <td>ISCGEM</td>\n",
              "      <td>Automatic</td>\n",
              "      <td>-1.57026e+08</td>\n",
              "    </tr>\n",
              "  </tbody>\n",
              "</table>\n",
              "</div>"
            ],
            "text/plain": [
              "   Latitude  Longitude        Type  Depth  Depth Error  \\\n",
              "0    19.246    145.616  Earthquake  131.6          NaN   \n",
              "1     1.863    127.352  Earthquake   80.0          NaN   \n",
              "2   -20.579   -173.972  Earthquake   20.0          NaN   \n",
              "3   -59.076    -23.557  Earthquake   15.0          NaN   \n",
              "4    11.938    126.427  Earthquake   15.0          NaN   \n",
              "\n",
              "   Depth Seismic Stations  Magnitude Magnitude Type  Magnitude Error  \\\n",
              "0                     NaN        6.0             MW              NaN   \n",
              "1                     NaN        5.8             MW              NaN   \n",
              "2                     NaN        6.2             MW              NaN   \n",
              "3                     NaN        5.8             MW              NaN   \n",
              "4                     NaN        5.8             MW              NaN   \n",
              "\n",
              "   Magnitude Seismic Stations  Azimuthal Gap  Horizontal Distance  \\\n",
              "0                         NaN            NaN                  NaN   \n",
              "1                         NaN            NaN                  NaN   \n",
              "2                         NaN            NaN                  NaN   \n",
              "3                         NaN            NaN                  NaN   \n",
              "4                         NaN            NaN                  NaN   \n",
              "\n",
              "   Horizontal Error  Root Mean Square            ID  Source Location Source  \\\n",
              "0               NaN               NaN  ISCGEM860706  ISCGEM          ISCGEM   \n",
              "1               NaN               NaN  ISCGEM860737  ISCGEM          ISCGEM   \n",
              "2               NaN               NaN  ISCGEM860762  ISCGEM          ISCGEM   \n",
              "3               NaN               NaN  ISCGEM860856  ISCGEM          ISCGEM   \n",
              "4               NaN               NaN  ISCGEM860890  ISCGEM          ISCGEM   \n",
              "\n",
              "  Magnitude Source     Status    TimeStamp  \n",
              "0           ISCGEM  Automatic -1.57631e+08  \n",
              "1           ISCGEM  Automatic -1.57466e+08  \n",
              "2           ISCGEM  Automatic -1.57356e+08  \n",
              "3           ISCGEM  Automatic -1.57094e+08  \n",
              "4           ISCGEM  Automatic -1.57026e+08  "
            ]
          },
          "metadata": {
            "tags": []
          },
          "execution_count": 37
        }
      ]
    },
    {
      "cell_type": "markdown",
      "metadata": {
        "id": "BR8512eCPGlF",
        "colab_type": "text"
      },
      "source": [
        "Missing Values"
      ]
    },
    {
      "cell_type": "code",
      "metadata": {
        "id": "VLn1lLtOvlWU",
        "colab_type": "code",
        "colab": {
          "base_uri": "https://localhost:8080/",
          "height": 173
        },
        "outputId": "d3589ab5-4ea4-485b-a1dc-3cf20ac7895d"
      },
      "source": [
        "## list of features with NA\n",
        "features_with_na=[feature for feature in data.columns if data[feature].isnull().sum()>0]\n",
        "\n",
        "for feature in features_with_na:\n",
        "    print(feature,np.round(data[feature].isnull().sum()/len(data[feature])*100,4),' %missing values')"
      ],
      "execution_count": 38,
      "outputs": [
        {
          "output_type": "stream",
          "text": [
            "Depth Error 80.9457  %missing values\n",
            "Depth Seismic Stations 69.6865  %missing values\n",
            "Magnitude Type 0.0128  %missing values\n",
            "Magnitude Error 98.6033  %missing values\n",
            "Magnitude Seismic Stations 89.0484  %missing values\n",
            "Azimuthal Gap 68.8237  %missing values\n",
            "Horizontal Distance 93.1488  %missing values\n",
            "Horizontal Error 95.0624  %missing values\n",
            "Root Mean Square 25.8842  %missing values\n"
          ],
          "name": "stdout"
        }
      ]
    },
    {
      "cell_type": "code",
      "metadata": {
        "id": "ooOfvEjdwLRV",
        "colab_type": "code",
        "colab": {
          "base_uri": "https://localhost:8080/",
          "height": 257
        },
        "outputId": "9bc2a8e7-e152-42de-d989-0b604a48f041"
      },
      "source": [
        "## Features having missing values for more than 50%. So we must drop those features.\n",
        "for feature in features_with_na:\n",
        "    if (data[feature].isnull().sum()/len(data[feature]))*100>50:\n",
        "        data.drop(columns=feature,inplace=True)\n",
        "\n",
        "data.head()"
      ],
      "execution_count": 39,
      "outputs": [
        {
          "output_type": "execute_result",
          "data": {
            "text/html": [
              "<div>\n",
              "<style scoped>\n",
              "    .dataframe tbody tr th:only-of-type {\n",
              "        vertical-align: middle;\n",
              "    }\n",
              "\n",
              "    .dataframe tbody tr th {\n",
              "        vertical-align: top;\n",
              "    }\n",
              "\n",
              "    .dataframe thead th {\n",
              "        text-align: right;\n",
              "    }\n",
              "</style>\n",
              "<table border=\"1\" class=\"dataframe\">\n",
              "  <thead>\n",
              "    <tr style=\"text-align: right;\">\n",
              "      <th></th>\n",
              "      <th>Latitude</th>\n",
              "      <th>Longitude</th>\n",
              "      <th>Type</th>\n",
              "      <th>Depth</th>\n",
              "      <th>Magnitude</th>\n",
              "      <th>Magnitude Type</th>\n",
              "      <th>Root Mean Square</th>\n",
              "      <th>ID</th>\n",
              "      <th>Source</th>\n",
              "      <th>Location Source</th>\n",
              "      <th>Magnitude Source</th>\n",
              "      <th>Status</th>\n",
              "      <th>TimeStamp</th>\n",
              "    </tr>\n",
              "  </thead>\n",
              "  <tbody>\n",
              "    <tr>\n",
              "      <th>0</th>\n",
              "      <td>19.246</td>\n",
              "      <td>145.616</td>\n",
              "      <td>Earthquake</td>\n",
              "      <td>131.6</td>\n",
              "      <td>6.0</td>\n",
              "      <td>MW</td>\n",
              "      <td>NaN</td>\n",
              "      <td>ISCGEM860706</td>\n",
              "      <td>ISCGEM</td>\n",
              "      <td>ISCGEM</td>\n",
              "      <td>ISCGEM</td>\n",
              "      <td>Automatic</td>\n",
              "      <td>-1.57631e+08</td>\n",
              "    </tr>\n",
              "    <tr>\n",
              "      <th>1</th>\n",
              "      <td>1.863</td>\n",
              "      <td>127.352</td>\n",
              "      <td>Earthquake</td>\n",
              "      <td>80.0</td>\n",
              "      <td>5.8</td>\n",
              "      <td>MW</td>\n",
              "      <td>NaN</td>\n",
              "      <td>ISCGEM860737</td>\n",
              "      <td>ISCGEM</td>\n",
              "      <td>ISCGEM</td>\n",
              "      <td>ISCGEM</td>\n",
              "      <td>Automatic</td>\n",
              "      <td>-1.57466e+08</td>\n",
              "    </tr>\n",
              "    <tr>\n",
              "      <th>2</th>\n",
              "      <td>-20.579</td>\n",
              "      <td>-173.972</td>\n",
              "      <td>Earthquake</td>\n",
              "      <td>20.0</td>\n",
              "      <td>6.2</td>\n",
              "      <td>MW</td>\n",
              "      <td>NaN</td>\n",
              "      <td>ISCGEM860762</td>\n",
              "      <td>ISCGEM</td>\n",
              "      <td>ISCGEM</td>\n",
              "      <td>ISCGEM</td>\n",
              "      <td>Automatic</td>\n",
              "      <td>-1.57356e+08</td>\n",
              "    </tr>\n",
              "    <tr>\n",
              "      <th>3</th>\n",
              "      <td>-59.076</td>\n",
              "      <td>-23.557</td>\n",
              "      <td>Earthquake</td>\n",
              "      <td>15.0</td>\n",
              "      <td>5.8</td>\n",
              "      <td>MW</td>\n",
              "      <td>NaN</td>\n",
              "      <td>ISCGEM860856</td>\n",
              "      <td>ISCGEM</td>\n",
              "      <td>ISCGEM</td>\n",
              "      <td>ISCGEM</td>\n",
              "      <td>Automatic</td>\n",
              "      <td>-1.57094e+08</td>\n",
              "    </tr>\n",
              "    <tr>\n",
              "      <th>4</th>\n",
              "      <td>11.938</td>\n",
              "      <td>126.427</td>\n",
              "      <td>Earthquake</td>\n",
              "      <td>15.0</td>\n",
              "      <td>5.8</td>\n",
              "      <td>MW</td>\n",
              "      <td>NaN</td>\n",
              "      <td>ISCGEM860890</td>\n",
              "      <td>ISCGEM</td>\n",
              "      <td>ISCGEM</td>\n",
              "      <td>ISCGEM</td>\n",
              "      <td>Automatic</td>\n",
              "      <td>-1.57026e+08</td>\n",
              "    </tr>\n",
              "  </tbody>\n",
              "</table>\n",
              "</div>"
            ],
            "text/plain": [
              "   Latitude  Longitude        Type  Depth  Magnitude Magnitude Type  \\\n",
              "0    19.246    145.616  Earthquake  131.6        6.0             MW   \n",
              "1     1.863    127.352  Earthquake   80.0        5.8             MW   \n",
              "2   -20.579   -173.972  Earthquake   20.0        6.2             MW   \n",
              "3   -59.076    -23.557  Earthquake   15.0        5.8             MW   \n",
              "4    11.938    126.427  Earthquake   15.0        5.8             MW   \n",
              "\n",
              "   Root Mean Square            ID  Source Location Source Magnitude Source  \\\n",
              "0               NaN  ISCGEM860706  ISCGEM          ISCGEM           ISCGEM   \n",
              "1               NaN  ISCGEM860737  ISCGEM          ISCGEM           ISCGEM   \n",
              "2               NaN  ISCGEM860762  ISCGEM          ISCGEM           ISCGEM   \n",
              "3               NaN  ISCGEM860856  ISCGEM          ISCGEM           ISCGEM   \n",
              "4               NaN  ISCGEM860890  ISCGEM          ISCGEM           ISCGEM   \n",
              "\n",
              "      Status    TimeStamp  \n",
              "0  Automatic -1.57631e+08  \n",
              "1  Automatic -1.57466e+08  \n",
              "2  Automatic -1.57356e+08  \n",
              "3  Automatic -1.57094e+08  \n",
              "4  Automatic -1.57026e+08  "
            ]
          },
          "metadata": {
            "tags": []
          },
          "execution_count": 39
        }
      ]
    },
    {
      "cell_type": "code",
      "metadata": {
        "id": "wU8SbNHOQURL",
        "colab_type": "code",
        "colab": {
          "base_uri": "https://localhost:8080/",
          "height": 35
        },
        "outputId": "1b299eef-0034-45d8-a40f-84198ac4307c"
      },
      "source": [
        "## updated list of features with NA\n",
        "features_with_na=[feature for feature in data.columns if data[feature].isnull().sum()>0]\n",
        "features_with_na"
      ],
      "execution_count": 40,
      "outputs": [
        {
          "output_type": "execute_result",
          "data": {
            "text/plain": [
              "['Magnitude Type', 'Root Mean Square']"
            ]
          },
          "metadata": {
            "tags": []
          },
          "execution_count": 40
        }
      ]
    },
    {
      "cell_type": "code",
      "metadata": {
        "id": "bD_jWeahROOj",
        "colab_type": "code",
        "colab": {
          "base_uri": "https://localhost:8080/",
          "height": 653
        },
        "outputId": "3a2c05d8-8803-4196-d8a5-97b03a569599"
      },
      "source": [
        "## Relation between remaining valid NA features and dependent feature\n",
        "\n",
        "for feature in features_with_na:\n",
        "    data_temp=data.copy()\n",
        "    if data_temp[feature].dtype=='O':\n",
        "        data_temp[feature]=np.where(data_temp[feature].isnull(),'Missing','Valid')\n",
        "    else:\n",
        "        data_temp[feature]=np.where(data_temp[feature].isnull(),1,0)\n",
        "\n",
        "    data_temp.groupby(data_temp[feature])['Magnitude','Depth'].median().plot.bar()\n",
        "    plt.title(feature)\n",
        "    plt.show()\n"
      ],
      "execution_count": 44,
      "outputs": [
        {
          "output_type": "stream",
          "text": [
            "/usr/local/lib/python3.6/dist-packages/ipykernel_launcher.py:10: FutureWarning: Indexing with multiple keys (implicitly converted to a tuple of keys) will be deprecated, use a list instead.\n",
            "  # Remove the CWD from sys.path while we load stuff.\n"
          ],
          "name": "stderr"
        },
        {
          "output_type": "display_data",
          "data": {
            "image/png": "[encoded data removed]",
            "text/plain": [
              "<Figure size 432x288 with 1 Axes>"
            ]
          },
          "metadata": {
            "tags": [],
            "needs_background": "light"
          }
        },
        {
          "output_type": "display_data",
          "data": {
            "image/png": "[encoded data removed]",
            "text/plain": [
              "<Figure size 432x288 with 1 Axes>"
            ]
          },
          "metadata": {
            "tags": [],
            "needs_background": "light"
          }
        }
      ]
    },
    {
      "cell_type": "markdown",
      "metadata": {
        "id": "dwE4vz1YZQrg",
        "colab_type": "text"
      },
      "source": [
        "Here the missing values are significant compared to the Magnitude (dependent feature). So the decision to directly drop them would not be good. So, we would check in feature engineering and feature selection process."
      ]
    },
    {
      "cell_type": "code",
      "metadata": {
        "id": "OMnLvo95XbzU",
        "colab_type": "code",
        "colab": {
          "base_uri": "https://localhost:8080/",
          "height": 35
        },
        "outputId": "fc162de8-a032-4379-b73b-817f189c01cb"
      },
      "source": [
        "data['Magnitude Type'].dtype=='O'"
      ],
      "execution_count": 42,
      "outputs": [
        {
          "output_type": "execute_result",
          "data": {
            "text/plain": [
              "True"
            ]
          },
          "metadata": {
            "tags": []
          },
          "execution_count": 42
        }
      ]
    },
    {
      "cell_type": "code",
      "metadata": {
        "id": "A-SVE8jsXg0T",
        "colab_type": "code",
        "colab": {}
      },
      "source": [
        ""
      ],
      "execution_count": null,
      "outputs": []
    }
  ]
}