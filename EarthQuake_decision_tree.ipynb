{
  "nbformat": 4,
  "nbformat_minor": 0,
  "metadata": {
    "colab": {
      "name": "EarthQuake_decision_tree.ipynb",
      "provenance": [],
      "authorship_tag": "ABX9TyPZ2W8/xzqWD70ExccAqxD1",
      "include_colab_link": true
    },
    "kernelspec": {
      "name": "python3",
      "display_name": "Python 3"
    }
  },
  "cells": [
    {
      "cell_type": "markdown",
      "metadata": {
        "id": "view-in-github",
        "colab_type": "text"
      },
      "source": [
        "<a href=\"https://colab.research.google.com/github/shashankbhagat/Earthquake-Prediction/blob/master/EarthQuake_decision_tree.ipynb\" target=\"_parent\"><img src=\"https://colab.research.google.com/assets/colab-badge.svg\" alt=\"Open In Colab\"/></a>"
      ]
    },
    {
      "cell_type": "code",
      "metadata": {
        "id": "o15chZIysXEE",
        "colab_type": "code",
        "colab": {}
      },
      "source": [
        "import numpy as np\n",
        "import pandas as pd\n",
        "import matplotlib.pyplot as plt\n",
        "import os\n",
        "pd.set_option('display.max_columns',None)"
      ],
      "execution_count": 1,
      "outputs": []
    },
    {
      "cell_type": "code",
      "metadata": {
        "id": "JGmw5dI3sud_",
        "colab_type": "code",
        "colab": {
          "base_uri": "https://localhost:8080/",
          "height": 257
        },
        "outputId": "04e8ccfb-af0e-47b2-9e10-0dea08de05b9"
      },
      "source": [
        "data=pd.read_csv('database.csv')\n",
        "data.head()"
      ],
      "execution_count": 2,
      "outputs": [
        {
          "output_type": "execute_result",
          "data": {
            "text/html": [
              "<div>\n",
              "<style scoped>\n",
              "    .dataframe tbody tr th:only-of-type {\n",
              "        vertical-align: middle;\n",
              "    }\n",
              "\n",
              "    .dataframe tbody tr th {\n",
              "        vertical-align: top;\n",
              "    }\n",
              "\n",
              "    .dataframe thead th {\n",
              "        text-align: right;\n",
              "    }\n",
              "</style>\n",
              "<table border=\"1\" class=\"dataframe\">\n",
              "  <thead>\n",
              "    <tr style=\"text-align: right;\">\n",
              "      <th></th>\n",
              "      <th>Date</th>\n",
              "      <th>Time</th>\n",
              "      <th>Latitude</th>\n",
              "      <th>Longitude</th>\n",
              "      <th>Type</th>\n",
              "      <th>Depth</th>\n",
              "      <th>Depth Error</th>\n",
              "      <th>Depth Seismic Stations</th>\n",
              "      <th>Magnitude</th>\n",
              "      <th>Magnitude Type</th>\n",
              "      <th>Magnitude Error</th>\n",
              "      <th>Magnitude Seismic Stations</th>\n",
              "      <th>Azimuthal Gap</th>\n",
              "      <th>Horizontal Distance</th>\n",
              "      <th>Horizontal Error</th>\n",
              "      <th>Root Mean Square</th>\n",
              "      <th>ID</th>\n",
              "      <th>Source</th>\n",
              "      <th>Location Source</th>\n",
              "      <th>Magnitude Source</th>\n",
              "      <th>Status</th>\n",
              "    </tr>\n",
              "  </thead>\n",
              "  <tbody>\n",
              "    <tr>\n",
              "      <th>0</th>\n",
              "      <td>1/2/1965</td>\n",
              "      <td>13:44:18</td>\n",
              "      <td>19.246</td>\n",
              "      <td>145.616</td>\n",
              "      <td>Earthquake</td>\n",
              "      <td>131.6</td>\n",
              "      <td>NaN</td>\n",
              "      <td>NaN</td>\n",
              "      <td>6.0</td>\n",
              "      <td>MW</td>\n",
              "      <td>NaN</td>\n",
              "      <td>NaN</td>\n",
              "      <td>NaN</td>\n",
              "      <td>NaN</td>\n",
              "      <td>NaN</td>\n",
              "      <td>NaN</td>\n",
              "      <td>ISCGEM860706</td>\n",
              "      <td>ISCGEM</td>\n",
              "      <td>ISCGEM</td>\n",
              "      <td>ISCGEM</td>\n",
              "      <td>Automatic</td>\n",
              "    </tr>\n",
              "    <tr>\n",
              "      <th>1</th>\n",
              "      <td>1/4/1965</td>\n",
              "      <td>11:29:49</td>\n",
              "      <td>1.863</td>\n",
              "      <td>127.352</td>\n",
              "      <td>Earthquake</td>\n",
              "      <td>80.0</td>\n",
              "      <td>NaN</td>\n",
              "      <td>NaN</td>\n",
              "      <td>5.8</td>\n",
              "      <td>MW</td>\n",
              "      <td>NaN</td>\n",
              "      <td>NaN</td>\n",
              "      <td>NaN</td>\n",
              "      <td>NaN</td>\n",
              "      <td>NaN</td>\n",
              "      <td>NaN</td>\n",
              "      <td>ISCGEM860737</td>\n",
              "      <td>ISCGEM</td>\n",
              "      <td>ISCGEM</td>\n",
              "      <td>ISCGEM</td>\n",
              "      <td>Automatic</td>\n",
              "    </tr>\n",
              "    <tr>\n",
              "      <th>2</th>\n",
              "      <td>1/5/1965</td>\n",
              "      <td>18:05:58</td>\n",
              "      <td>-20.579</td>\n",
              "      <td>-173.972</td>\n",
              "      <td>Earthquake</td>\n",
              "      <td>20.0</td>\n",
              "      <td>NaN</td>\n",
              "      <td>NaN</td>\n",
              "      <td>6.2</td>\n",
              "      <td>MW</td>\n",
              "      <td>NaN</td>\n",
              "      <td>NaN</td>\n",
              "      <td>NaN</td>\n",
              "      <td>NaN</td>\n",
              "      <td>NaN</td>\n",
              "      <td>NaN</td>\n",
              "      <td>ISCGEM860762</td>\n",
              "      <td>ISCGEM</td>\n",
              "      <td>ISCGEM</td>\n",
              "      <td>ISCGEM</td>\n",
              "      <td>Automatic</td>\n",
              "    </tr>\n",
              "    <tr>\n",
              "      <th>3</th>\n",
              "      <td>1/8/1965</td>\n",
              "      <td>18:49:43</td>\n",
              "      <td>-59.076</td>\n",
              "      <td>-23.557</td>\n",
              "      <td>Earthquake</td>\n",
              "      <td>15.0</td>\n",
              "      <td>NaN</td>\n",
              "      <td>NaN</td>\n",
              "      <td>5.8</td>\n",
              "      <td>MW</td>\n",
              "      <td>NaN</td>\n",
              "      <td>NaN</td>\n",
              "      <td>NaN</td>\n",
              "      <td>NaN</td>\n",
              "      <td>NaN</td>\n",
              "      <td>NaN</td>\n",
              "      <td>ISCGEM860856</td>\n",
              "      <td>ISCGEM</td>\n",
              "      <td>ISCGEM</td>\n",
              "      <td>ISCGEM</td>\n",
              "      <td>Automatic</td>\n",
              "    </tr>\n",
              "    <tr>\n",
              "      <th>4</th>\n",
              "      <td>1/9/1965</td>\n",
              "      <td>13:32:50</td>\n",
              "      <td>11.938</td>\n",
              "      <td>126.427</td>\n",
              "      <td>Earthquake</td>\n",
              "      <td>15.0</td>\n",
              "      <td>NaN</td>\n",
              "      <td>NaN</td>\n",
              "      <td>5.8</td>\n",
              "      <td>MW</td>\n",
              "      <td>NaN</td>\n",
              "      <td>NaN</td>\n",
              "      <td>NaN</td>\n",
              "      <td>NaN</td>\n",
              "      <td>NaN</td>\n",
              "      <td>NaN</td>\n",
              "      <td>ISCGEM860890</td>\n",
              "      <td>ISCGEM</td>\n",
              "      <td>ISCGEM</td>\n",
              "      <td>ISCGEM</td>\n",
              "      <td>Automatic</td>\n",
              "    </tr>\n",
              "  </tbody>\n",
              "</table>\n",
              "</div>"
            ],
            "text/plain": [
              "       Date      Time  Latitude  Longitude        Type  Depth  Depth Error  \\\n",
              "0  1/2/1965  13:44:18    19.246    145.616  Earthquake  131.6          NaN   \n",
              "1  1/4/1965  11:29:49     1.863    127.352  Earthquake   80.0          NaN   \n",
              "2  1/5/1965  18:05:58   -20.579   -173.972  Earthquake   20.0          NaN   \n",
              "3  1/8/1965  18:49:43   -59.076    -23.557  Earthquake   15.0          NaN   \n",
              "4  1/9/1965  13:32:50    11.938    126.427  Earthquake   15.0          NaN   \n",
              "\n",
              "   Depth Seismic Stations  Magnitude Magnitude Type  Magnitude Error  \\\n",
              "0                     NaN        6.0             MW              NaN   \n",
              "1                     NaN        5.8             MW              NaN   \n",
              "2                     NaN        6.2             MW              NaN   \n",
              "3                     NaN        5.8             MW              NaN   \n",
              "4                     NaN        5.8             MW              NaN   \n",
              "\n",
              "   Magnitude Seismic Stations  Azimuthal Gap  Horizontal Distance  \\\n",
              "0                         NaN            NaN                  NaN   \n",
              "1                         NaN            NaN                  NaN   \n",
              "2                         NaN            NaN                  NaN   \n",
              "3                         NaN            NaN                  NaN   \n",
              "4                         NaN            NaN                  NaN   \n",
              "\n",
              "   Horizontal Error  Root Mean Square            ID  Source Location Source  \\\n",
              "0               NaN               NaN  ISCGEM860706  ISCGEM          ISCGEM   \n",
              "1               NaN               NaN  ISCGEM860737  ISCGEM          ISCGEM   \n",
              "2               NaN               NaN  ISCGEM860762  ISCGEM          ISCGEM   \n",
              "3               NaN               NaN  ISCGEM860856  ISCGEM          ISCGEM   \n",
              "4               NaN               NaN  ISCGEM860890  ISCGEM          ISCGEM   \n",
              "\n",
              "  Magnitude Source     Status  \n",
              "0           ISCGEM  Automatic  \n",
              "1           ISCGEM  Automatic  \n",
              "2           ISCGEM  Automatic  \n",
              "3           ISCGEM  Automatic  \n",
              "4           ISCGEM  Automatic  "
            ]
          },
          "metadata": {
            "tags": []
          },
          "execution_count": 2
        }
      ]
    },
    {
      "cell_type": "code",
      "metadata": {
        "id": "NB47cNdZsxdK",
        "colab_type": "code",
        "colab": {
          "base_uri": "https://localhost:8080/",
          "height": 399
        },
        "outputId": "def74b33-def7-48cd-cdcf-72f84dc4c6bf"
      },
      "source": [
        "data.dtypes"
      ],
      "execution_count": 3,
      "outputs": [
        {
          "output_type": "execute_result",
          "data": {
            "text/plain": [
              "Date                           object\n",
              "Time                           object\n",
              "Latitude                      float64\n",
              "Longitude                     float64\n",
              "Type                           object\n",
              "Depth                         float64\n",
              "Depth Error                   float64\n",
              "Depth Seismic Stations        float64\n",
              "Magnitude                     float64\n",
              "Magnitude Type                 object\n",
              "Magnitude Error               float64\n",
              "Magnitude Seismic Stations    float64\n",
              "Azimuthal Gap                 float64\n",
              "Horizontal Distance           float64\n",
              "Horizontal Error              float64\n",
              "Root Mean Square              float64\n",
              "ID                             object\n",
              "Source                         object\n",
              "Location Source                object\n",
              "Magnitude Source               object\n",
              "Status                         object\n",
              "dtype: object"
            ]
          },
          "metadata": {
            "tags": []
          },
          "execution_count": 3
        }
      ]
    },
    {
      "cell_type": "markdown",
      "metadata": {
        "id": "lBu1ywMkumlC",
        "colab_type": "text"
      },
      "source": [
        "# Data Analysis"
      ]
    },
    {
      "cell_type": "markdown",
      "metadata": {
        "id": "ieormtgMvEJU",
        "colab_type": "text"
      },
      "source": [
        "Before starting with the analysis, we would be scaling the input. Espicially the Date and Time fields to Unix time which is in seconds."
      ]
    },
    {
      "cell_type": "code",
      "metadata": {
        "id": "zjLi5xwruq6e",
        "colab_type": "code",
        "colab": {}
      },
      "source": [
        "import datetime\n",
        "import time\n",
        "\n",
        "timestamp=[]\n",
        "for d,t in zip(data['Date'],data['Time']):\n",
        "    try:\n",
        "        ts=datetime.datetime.strptime(d+' '+t,'%m/%d/%Y %H:%M:%S')\n",
        "        timestamp.append(time.mktime(ts.timetuple()))\n",
        "    except ValueError:\n",
        "        timestamp.append('ValueError')"
      ],
      "execution_count": 4,
      "outputs": []
    },
    {
      "cell_type": "code",
      "metadata": {
        "id": "Mo3yGuo09O7D",
        "colab_type": "code",
        "colab": {
          "base_uri": "https://localhost:8080/",
          "height": 35
        },
        "outputId": "29c4904f-4398-4595-b13c-d6ac9e1656f7"
      },
      "source": [
        "timestamp.count('ValueError')"
      ],
      "execution_count": 5,
      "outputs": [
        {
          "output_type": "execute_result",
          "data": {
            "text/plain": [
              "0"
            ]
          },
          "metadata": {
            "tags": []
          },
          "execution_count": 5
        }
      ]
    },
    {
      "cell_type": "code",
      "metadata": {
        "id": "F3J7QIQjvkSZ",
        "colab_type": "code",
        "colab": {
          "base_uri": "https://localhost:8080/",
          "height": 257
        },
        "outputId": "b919d687-53b9-45ad-d2de-fc83ab166b7e"
      },
      "source": [
        "data['TimeStamp']=timestamp\n",
        "data.drop(columns=['Date','Time'],axis=1,inplace=True)\n",
        "data.head()"
      ],
      "execution_count": 6,
      "outputs": [
        {
          "output_type": "execute_result",
          "data": {
            "text/html": [
              "<div>\n",
              "<style scoped>\n",
              "    .dataframe tbody tr th:only-of-type {\n",
              "        vertical-align: middle;\n",
              "    }\n",
              "\n",
              "    .dataframe tbody tr th {\n",
              "        vertical-align: top;\n",
              "    }\n",
              "\n",
              "    .dataframe thead th {\n",
              "        text-align: right;\n",
              "    }\n",
              "</style>\n",
              "<table border=\"1\" class=\"dataframe\">\n",
              "  <thead>\n",
              "    <tr style=\"text-align: right;\">\n",
              "      <th></th>\n",
              "      <th>Latitude</th>\n",
              "      <th>Longitude</th>\n",
              "      <th>Type</th>\n",
              "      <th>Depth</th>\n",
              "      <th>Depth Error</th>\n",
              "      <th>Depth Seismic Stations</th>\n",
              "      <th>Magnitude</th>\n",
              "      <th>Magnitude Type</th>\n",
              "      <th>Magnitude Error</th>\n",
              "      <th>Magnitude Seismic Stations</th>\n",
              "      <th>Azimuthal Gap</th>\n",
              "      <th>Horizontal Distance</th>\n",
              "      <th>Horizontal Error</th>\n",
              "      <th>Root Mean Square</th>\n",
              "      <th>ID</th>\n",
              "      <th>Source</th>\n",
              "      <th>Location Source</th>\n",
              "      <th>Magnitude Source</th>\n",
              "      <th>Status</th>\n",
              "      <th>TimeStamp</th>\n",
              "    </tr>\n",
              "  </thead>\n",
              "  <tbody>\n",
              "    <tr>\n",
              "      <th>0</th>\n",
              "      <td>19.246</td>\n",
              "      <td>145.616</td>\n",
              "      <td>Earthquake</td>\n",
              "      <td>131.6</td>\n",
              "      <td>NaN</td>\n",
              "      <td>NaN</td>\n",
              "      <td>6.0</td>\n",
              "      <td>MW</td>\n",
              "      <td>NaN</td>\n",
              "      <td>NaN</td>\n",
              "      <td>NaN</td>\n",
              "      <td>NaN</td>\n",
              "      <td>NaN</td>\n",
              "      <td>NaN</td>\n",
              "      <td>ISCGEM860706</td>\n",
              "      <td>ISCGEM</td>\n",
              "      <td>ISCGEM</td>\n",
              "      <td>ISCGEM</td>\n",
              "      <td>Automatic</td>\n",
              "      <td>-157630542.0</td>\n",
              "    </tr>\n",
              "    <tr>\n",
              "      <th>1</th>\n",
              "      <td>1.863</td>\n",
              "      <td>127.352</td>\n",
              "      <td>Earthquake</td>\n",
              "      <td>80.0</td>\n",
              "      <td>NaN</td>\n",
              "      <td>NaN</td>\n",
              "      <td>5.8</td>\n",
              "      <td>MW</td>\n",
              "      <td>NaN</td>\n",
              "      <td>NaN</td>\n",
              "      <td>NaN</td>\n",
              "      <td>NaN</td>\n",
              "      <td>NaN</td>\n",
              "      <td>NaN</td>\n",
              "      <td>ISCGEM860737</td>\n",
              "      <td>ISCGEM</td>\n",
              "      <td>ISCGEM</td>\n",
              "      <td>ISCGEM</td>\n",
              "      <td>Automatic</td>\n",
              "      <td>-157465811.0</td>\n",
              "    </tr>\n",
              "    <tr>\n",
              "      <th>2</th>\n",
              "      <td>-20.579</td>\n",
              "      <td>-173.972</td>\n",
              "      <td>Earthquake</td>\n",
              "      <td>20.0</td>\n",
              "      <td>NaN</td>\n",
              "      <td>NaN</td>\n",
              "      <td>6.2</td>\n",
              "      <td>MW</td>\n",
              "      <td>NaN</td>\n",
              "      <td>NaN</td>\n",
              "      <td>NaN</td>\n",
              "      <td>NaN</td>\n",
              "      <td>NaN</td>\n",
              "      <td>NaN</td>\n",
              "      <td>ISCGEM860762</td>\n",
              "      <td>ISCGEM</td>\n",
              "      <td>ISCGEM</td>\n",
              "      <td>ISCGEM</td>\n",
              "      <td>Automatic</td>\n",
              "      <td>-157355642.0</td>\n",
              "    </tr>\n",
              "    <tr>\n",
              "      <th>3</th>\n",
              "      <td>-59.076</td>\n",
              "      <td>-23.557</td>\n",
              "      <td>Earthquake</td>\n",
              "      <td>15.0</td>\n",
              "      <td>NaN</td>\n",
              "      <td>NaN</td>\n",
              "      <td>5.8</td>\n",
              "      <td>MW</td>\n",
              "      <td>NaN</td>\n",
              "      <td>NaN</td>\n",
              "      <td>NaN</td>\n",
              "      <td>NaN</td>\n",
              "      <td>NaN</td>\n",
              "      <td>NaN</td>\n",
              "      <td>ISCGEM860856</td>\n",
              "      <td>ISCGEM</td>\n",
              "      <td>ISCGEM</td>\n",
              "      <td>ISCGEM</td>\n",
              "      <td>Automatic</td>\n",
              "      <td>-157093817.0</td>\n",
              "    </tr>\n",
              "    <tr>\n",
              "      <th>4</th>\n",
              "      <td>11.938</td>\n",
              "      <td>126.427</td>\n",
              "      <td>Earthquake</td>\n",
              "      <td>15.0</td>\n",
              "      <td>NaN</td>\n",
              "      <td>NaN</td>\n",
              "      <td>5.8</td>\n",
              "      <td>MW</td>\n",
              "      <td>NaN</td>\n",
              "      <td>NaN</td>\n",
              "      <td>NaN</td>\n",
              "      <td>NaN</td>\n",
              "      <td>NaN</td>\n",
              "      <td>NaN</td>\n",
              "      <td>ISCGEM860890</td>\n",
              "      <td>ISCGEM</td>\n",
              "      <td>ISCGEM</td>\n",
              "      <td>ISCGEM</td>\n",
              "      <td>Automatic</td>\n",
              "      <td>-157026430.0</td>\n",
              "    </tr>\n",
              "  </tbody>\n",
              "</table>\n",
              "</div>"
            ],
            "text/plain": [
              "   Latitude  Longitude        Type  Depth  Depth Error  \\\n",
              "0    19.246    145.616  Earthquake  131.6          NaN   \n",
              "1     1.863    127.352  Earthquake   80.0          NaN   \n",
              "2   -20.579   -173.972  Earthquake   20.0          NaN   \n",
              "3   -59.076    -23.557  Earthquake   15.0          NaN   \n",
              "4    11.938    126.427  Earthquake   15.0          NaN   \n",
              "\n",
              "   Depth Seismic Stations  Magnitude Magnitude Type  Magnitude Error  \\\n",
              "0                     NaN        6.0             MW              NaN   \n",
              "1                     NaN        5.8             MW              NaN   \n",
              "2                     NaN        6.2             MW              NaN   \n",
              "3                     NaN        5.8             MW              NaN   \n",
              "4                     NaN        5.8             MW              NaN   \n",
              "\n",
              "   Magnitude Seismic Stations  Azimuthal Gap  Horizontal Distance  \\\n",
              "0                         NaN            NaN                  NaN   \n",
              "1                         NaN            NaN                  NaN   \n",
              "2                         NaN            NaN                  NaN   \n",
              "3                         NaN            NaN                  NaN   \n",
              "4                         NaN            NaN                  NaN   \n",
              "\n",
              "   Horizontal Error  Root Mean Square            ID  Source Location Source  \\\n",
              "0               NaN               NaN  ISCGEM860706  ISCGEM          ISCGEM   \n",
              "1               NaN               NaN  ISCGEM860737  ISCGEM          ISCGEM   \n",
              "2               NaN               NaN  ISCGEM860762  ISCGEM          ISCGEM   \n",
              "3               NaN               NaN  ISCGEM860856  ISCGEM          ISCGEM   \n",
              "4               NaN               NaN  ISCGEM860890  ISCGEM          ISCGEM   \n",
              "\n",
              "  Magnitude Source     Status    TimeStamp  \n",
              "0           ISCGEM  Automatic -157630542.0  \n",
              "1           ISCGEM  Automatic -157465811.0  \n",
              "2           ISCGEM  Automatic -157355642.0  \n",
              "3           ISCGEM  Automatic -157093817.0  \n",
              "4           ISCGEM  Automatic -157026430.0  "
            ]
          },
          "metadata": {
            "tags": []
          },
          "execution_count": 6
        }
      ]
    },
    {
      "cell_type": "code",
      "metadata": {
        "id": "U6v37T1iAl0C",
        "colab_type": "code",
        "colab": {
          "base_uri": "https://localhost:8080/",
          "height": 381
        },
        "outputId": "23560715-b60f-4c95-d1d6-4dad1ca12458"
      },
      "source": [
        "data.dtypes"
      ],
      "execution_count": 7,
      "outputs": [
        {
          "output_type": "execute_result",
          "data": {
            "text/plain": [
              "Latitude                      float64\n",
              "Longitude                     float64\n",
              "Type                           object\n",
              "Depth                         float64\n",
              "Depth Error                   float64\n",
              "Depth Seismic Stations        float64\n",
              "Magnitude                     float64\n",
              "Magnitude Type                 object\n",
              "Magnitude Error               float64\n",
              "Magnitude Seismic Stations    float64\n",
              "Azimuthal Gap                 float64\n",
              "Horizontal Distance           float64\n",
              "Horizontal Error              float64\n",
              "Root Mean Square              float64\n",
              "ID                             object\n",
              "Source                         object\n",
              "Location Source                object\n",
              "Magnitude Source               object\n",
              "Status                         object\n",
              "TimeStamp                     float64\n",
              "dtype: object"
            ]
          },
          "metadata": {
            "tags": []
          },
          "execution_count": 7
        }
      ]
    },
    {
      "cell_type": "markdown",
      "metadata": {
        "id": "BR8512eCPGlF",
        "colab_type": "text"
      },
      "source": [
        "Missing Values"
      ]
    },
    {
      "cell_type": "code",
      "metadata": {
        "id": "VLn1lLtOvlWU",
        "colab_type": "code",
        "colab": {
          "base_uri": "https://localhost:8080/",
          "height": 173
        },
        "outputId": "e28f8d8f-0a82-4abe-f3d8-238207537487"
      },
      "source": [
        "## list of features with NA\n",
        "features_with_na=[feature for feature in data.columns if data[feature].isnull().sum()>0]\n",
        "\n",
        "for feature in features_with_na:\n",
        "    print(feature,np.round(data[feature].isnull().sum()/len(data[feature])*100,4),' %missing values')"
      ],
      "execution_count": 8,
      "outputs": [
        {
          "output_type": "stream",
          "text": [
            "Depth Error 80.9457  %missing values\n",
            "Depth Seismic Stations 69.6865  %missing values\n",
            "Magnitude Type 0.0128  %missing values\n",
            "Magnitude Error 98.6033  %missing values\n",
            "Magnitude Seismic Stations 89.0484  %missing values\n",
            "Azimuthal Gap 68.8237  %missing values\n",
            "Horizontal Distance 93.1488  %missing values\n",
            "Horizontal Error 95.0624  %missing values\n",
            "Root Mean Square 25.8842  %missing values\n"
          ],
          "name": "stdout"
        }
      ]
    },
    {
      "cell_type": "code",
      "metadata": {
        "id": "ooOfvEjdwLRV",
        "colab_type": "code",
        "colab": {
          "base_uri": "https://localhost:8080/",
          "height": 257
        },
        "outputId": "83fde1f4-fadf-46f7-ab7b-67fbc46390df"
      },
      "source": [
        "## Features having missing values for more than 50%. So we must drop those features.\n",
        "for feature in features_with_na:\n",
        "    if (data[feature].isnull().sum()/len(data[feature]))*100>50:\n",
        "        data.drop(columns=feature,inplace=True)\n",
        "\n",
        "data.drop(columns=['ID'],inplace=True)\n",
        "\n",
        "data.head()"
      ],
      "execution_count": 9,
      "outputs": [
        {
          "output_type": "execute_result",
          "data": {
            "text/html": [
              "<div>\n",
              "<style scoped>\n",
              "    .dataframe tbody tr th:only-of-type {\n",
              "        vertical-align: middle;\n",
              "    }\n",
              "\n",
              "    .dataframe tbody tr th {\n",
              "        vertical-align: top;\n",
              "    }\n",
              "\n",
              "    .dataframe thead th {\n",
              "        text-align: right;\n",
              "    }\n",
              "</style>\n",
              "<table border=\"1\" class=\"dataframe\">\n",
              "  <thead>\n",
              "    <tr style=\"text-align: right;\">\n",
              "      <th></th>\n",
              "      <th>Latitude</th>\n",
              "      <th>Longitude</th>\n",
              "      <th>Type</th>\n",
              "      <th>Depth</th>\n",
              "      <th>Magnitude</th>\n",
              "      <th>Magnitude Type</th>\n",
              "      <th>Root Mean Square</th>\n",
              "      <th>Source</th>\n",
              "      <th>Location Source</th>\n",
              "      <th>Magnitude Source</th>\n",
              "      <th>Status</th>\n",
              "      <th>TimeStamp</th>\n",
              "    </tr>\n",
              "  </thead>\n",
              "  <tbody>\n",
              "    <tr>\n",
              "      <th>0</th>\n",
              "      <td>19.246</td>\n",
              "      <td>145.616</td>\n",
              "      <td>Earthquake</td>\n",
              "      <td>131.6</td>\n",
              "      <td>6.0</td>\n",
              "      <td>MW</td>\n",
              "      <td>NaN</td>\n",
              "      <td>ISCGEM</td>\n",
              "      <td>ISCGEM</td>\n",
              "      <td>ISCGEM</td>\n",
              "      <td>Automatic</td>\n",
              "      <td>-157630542.0</td>\n",
              "    </tr>\n",
              "    <tr>\n",
              "      <th>1</th>\n",
              "      <td>1.863</td>\n",
              "      <td>127.352</td>\n",
              "      <td>Earthquake</td>\n",
              "      <td>80.0</td>\n",
              "      <td>5.8</td>\n",
              "      <td>MW</td>\n",
              "      <td>NaN</td>\n",
              "      <td>ISCGEM</td>\n",
              "      <td>ISCGEM</td>\n",
              "      <td>ISCGEM</td>\n",
              "      <td>Automatic</td>\n",
              "      <td>-157465811.0</td>\n",
              "    </tr>\n",
              "    <tr>\n",
              "      <th>2</th>\n",
              "      <td>-20.579</td>\n",
              "      <td>-173.972</td>\n",
              "      <td>Earthquake</td>\n",
              "      <td>20.0</td>\n",
              "      <td>6.2</td>\n",
              "      <td>MW</td>\n",
              "      <td>NaN</td>\n",
              "      <td>ISCGEM</td>\n",
              "      <td>ISCGEM</td>\n",
              "      <td>ISCGEM</td>\n",
              "      <td>Automatic</td>\n",
              "      <td>-157355642.0</td>\n",
              "    </tr>\n",
              "    <tr>\n",
              "      <th>3</th>\n",
              "      <td>-59.076</td>\n",
              "      <td>-23.557</td>\n",
              "      <td>Earthquake</td>\n",
              "      <td>15.0</td>\n",
              "      <td>5.8</td>\n",
              "      <td>MW</td>\n",
              "      <td>NaN</td>\n",
              "      <td>ISCGEM</td>\n",
              "      <td>ISCGEM</td>\n",
              "      <td>ISCGEM</td>\n",
              "      <td>Automatic</td>\n",
              "      <td>-157093817.0</td>\n",
              "    </tr>\n",
              "    <tr>\n",
              "      <th>4</th>\n",
              "      <td>11.938</td>\n",
              "      <td>126.427</td>\n",
              "      <td>Earthquake</td>\n",
              "      <td>15.0</td>\n",
              "      <td>5.8</td>\n",
              "      <td>MW</td>\n",
              "      <td>NaN</td>\n",
              "      <td>ISCGEM</td>\n",
              "      <td>ISCGEM</td>\n",
              "      <td>ISCGEM</td>\n",
              "      <td>Automatic</td>\n",
              "      <td>-157026430.0</td>\n",
              "    </tr>\n",
              "  </tbody>\n",
              "</table>\n",
              "</div>"
            ],
            "text/plain": [
              "   Latitude  Longitude        Type  Depth  Magnitude Magnitude Type  \\\n",
              "0    19.246    145.616  Earthquake  131.6        6.0             MW   \n",
              "1     1.863    127.352  Earthquake   80.0        5.8             MW   \n",
              "2   -20.579   -173.972  Earthquake   20.0        6.2             MW   \n",
              "3   -59.076    -23.557  Earthquake   15.0        5.8             MW   \n",
              "4    11.938    126.427  Earthquake   15.0        5.8             MW   \n",
              "\n",
              "   Root Mean Square  Source Location Source Magnitude Source     Status  \\\n",
              "0               NaN  ISCGEM          ISCGEM           ISCGEM  Automatic   \n",
              "1               NaN  ISCGEM          ISCGEM           ISCGEM  Automatic   \n",
              "2               NaN  ISCGEM          ISCGEM           ISCGEM  Automatic   \n",
              "3               NaN  ISCGEM          ISCGEM           ISCGEM  Automatic   \n",
              "4               NaN  ISCGEM          ISCGEM           ISCGEM  Automatic   \n",
              "\n",
              "     TimeStamp  \n",
              "0 -157630542.0  \n",
              "1 -157465811.0  \n",
              "2 -157355642.0  \n",
              "3 -157093817.0  \n",
              "4 -157026430.0  "
            ]
          },
          "metadata": {
            "tags": []
          },
          "execution_count": 9
        }
      ]
    },
    {
      "cell_type": "code",
      "metadata": {
        "id": "wU8SbNHOQURL",
        "colab_type": "code",
        "colab": {
          "base_uri": "https://localhost:8080/",
          "height": 35
        },
        "outputId": "032d0afa-fd53-4eca-9ac6-4b1f62412352"
      },
      "source": [
        "## updated list of features with NA\n",
        "features_with_na=[feature for feature in data.columns if data[feature].isnull().sum()>0]\n",
        "features_with_na"
      ],
      "execution_count": 10,
      "outputs": [
        {
          "output_type": "execute_result",
          "data": {
            "text/plain": [
              "['Magnitude Type', 'Root Mean Square']"
            ]
          },
          "metadata": {
            "tags": []
          },
          "execution_count": 10
        }
      ]
    },
    {
      "cell_type": "code",
      "metadata": {
        "id": "bD_jWeahROOj",
        "colab_type": "code",
        "colab": {
          "base_uri": "https://localhost:8080/",
          "height": 653
        },
        "outputId": "3fe7d0e8-f881-43e9-aac0-cf67e8443d49"
      },
      "source": [
        "## Relation between remaining valid NA features and dependent feature\n",
        "\n",
        "for feature in features_with_na:\n",
        "    data_temp=data.copy()\n",
        "    if data_temp[feature].dtype=='O':\n",
        "        data_temp[feature]=np.where(data_temp[feature].isnull(),'Missing','Valid')\n",
        "    else:\n",
        "        data_temp[feature]=np.where(data_temp[feature].isnull(),1,0)\n",
        "\n",
        "    data_temp.groupby(data_temp[feature])['Magnitude','Depth'].median().plot.bar()\n",
        "    plt.title(feature)\n",
        "    plt.show()\n"
      ],
      "execution_count": 11,
      "outputs": [
        {
          "output_type": "stream",
          "text": [
            "/usr/local/lib/python3.6/dist-packages/ipykernel_launcher.py:10: FutureWarning: Indexing with multiple keys (implicitly converted to a tuple of keys) will be deprecated, use a list instead.\n",
            "  # Remove the CWD from sys.path while we load stuff.\n"
          ],
          "name": "stderr"
        },
        {
          "output_type": "display_data",
          "data": {
            "image/png": "[encoded data removed]",
            "text/plain": [
              "<Figure size 432x288 with 1 Axes>"
            ]
          },
          "metadata": {
            "tags": [],
            "needs_background": "light"
          }
        },
        {
          "output_type": "display_data",
          "data": {
            "image/png": "[encoded data removed]",
            "text/plain": [
              "<Figure size 432x288 with 1 Axes>"
            ]
          },
          "metadata": {
            "tags": [],
            "needs_background": "light"
          }
        }
      ]
    },
    {
      "cell_type": "markdown",
      "metadata": {
        "id": "dwE4vz1YZQrg",
        "colab_type": "text"
      },
      "source": [
        "Here the missing values are significant compared to the Magnitude (dependent feature). So the decision to directly drop them would not be good. So, we would check in feature engineering and feature selection process."
      ]
    },
    {
      "cell_type": "code",
      "metadata": {
        "id": "OMnLvo95XbzU",
        "colab_type": "code",
        "colab": {
          "base_uri": "https://localhost:8080/",
          "height": 243
        },
        "outputId": "70ff7a5a-8250-4d98-c59c-a6337b95f156"
      },
      "source": [
        "data.dtypes"
      ],
      "execution_count": 12,
      "outputs": [
        {
          "output_type": "execute_result",
          "data": {
            "text/plain": [
              "Latitude            float64\n",
              "Longitude           float64\n",
              "Type                 object\n",
              "Depth               float64\n",
              "Magnitude           float64\n",
              "Magnitude Type       object\n",
              "Root Mean Square    float64\n",
              "Source               object\n",
              "Location Source      object\n",
              "Magnitude Source     object\n",
              "Status               object\n",
              "TimeStamp           float64\n",
              "dtype: object"
            ]
          },
          "metadata": {
            "tags": []
          },
          "execution_count": 12
        }
      ]
    },
    {
      "cell_type": "code",
      "metadata": {
        "id": "A-SVE8jsXg0T",
        "colab_type": "code",
        "colab": {
          "base_uri": "https://localhost:8080/",
          "height": 121
        },
        "outputId": "1e6c33d3-a9ae-4abc-bc06-eb369799b645"
      },
      "source": [
        "for feature in data.columns:\n",
        "    if data[feature].dtype != 'O':\n",
        "        print(feature,':',len(data[feature].unique()))"
      ],
      "execution_count": 13,
      "outputs": [
        {
          "output_type": "stream",
          "text": [
            "Latitude : 20676\n",
            "Longitude : 21474\n",
            "Depth : 3485\n",
            "Magnitude : 64\n",
            "Root Mean Square : 191\n",
            "TimeStamp : 23393\n"
          ],
          "name": "stdout"
        }
      ]
    },
    {
      "cell_type": "markdown",
      "metadata": {
        "id": "15E8H8k_kEV_",
        "colab_type": "text"
      },
      "source": [
        "We can see from the above result that Latitude, Longitude and Root Mean Square are continuous features. Still while plotting we would use a threshold for unique values to check."
      ]
    },
    {
      "cell_type": "code",
      "metadata": {
        "id": "DjdiO6uUiY8c",
        "colab_type": "code",
        "colab": {
          "base_uri": "https://localhost:8080/",
          "height": 1000
        },
        "outputId": "5113471d-9160-46a8-ce2c-f071c0146a01"
      },
      "source": [
        "for feature in data.columns:\n",
        "    if data[feature].dtype != 'O' and feature not in ['Depth','Magnitude']:\n",
        "        if len(data[feature].unique())<25:\n",
        "            ## Discrete feature\n",
        "            ## Bar plots\n",
        "            data.groupby(feature)['Depth','Magnitude'].median().plot.bar()\n",
        "            plt.xlabel(feature)\n",
        "            plt.ylabel('median of Magnitude and Depth')\n",
        "            plt.title(feature)\n",
        "            plt.show()\n",
        "\n",
        "        else:\n",
        "            ## Continuous feature\n",
        "            ## Histogram\n",
        "            data[feature].hist(bins=25)\n",
        "            plt.xlabel(feature)\n",
        "            plt.ylabel('Count')\n",
        "            plt.title(feature)\n",
        "            plt.show()"
      ],
      "execution_count": 14,
      "outputs": [
        {
          "output_type": "display_data",
          "data": {
            "image/png": "[encoded data removed]",
            "text/plain": [
              "<Figure size 432x288 with 1 Axes>"
            ]
          },
          "metadata": {
            "tags": [],
            "needs_background": "light"
          }
        },
        {
          "output_type": "display_data",
          "data": {
            "image/png": "[encoded data removed]",
            "text/plain": [
              "<Figure size 432x288 with 1 Axes>"
            ]
          },
          "metadata": {
            "tags": [],
            "needs_background": "light"
          }
        },
        {
          "output_type": "display_data",
          "data": {
            "image/png": "[encoded data removed]",
            "text/plain": [
              "<Figure size 432x288 with 1 Axes>"
            ]
          },
          "metadata": {
            "tags": [],
            "needs_background": "light"
          }
        },
        {
          "output_type": "display_data",
          "data": {
            "image/png": "[encoded data removed]",
            "text/plain": [
              "<Figure size 432x288 with 1 Axes>"
            ]
          },
          "metadata": {
            "tags": [],
            "needs_background": "light"
          }
        }
      ]
    },
    {
      "cell_type": "markdown",
      "metadata": {
        "id": "yRMahi3Tsvz9",
        "colab_type": "text"
      },
      "source": [
        "The feature Longitude seems to be non-Guassian. Let's try to fix it by perform log normalisation on it."
      ]
    },
    {
      "cell_type": "code",
      "metadata": {
        "id": "DMukqa2OjiW8",
        "colab_type": "code",
        "colab": {
          "base_uri": "https://localhost:8080/",
          "height": 1000
        },
        "outputId": "a12ede73-1dc2-4402-cf1d-bf0b343f7052"
      },
      "source": [
        "for feature in data.columns:\n",
        "    if data[feature].dtype != 'O' and feature not in ['Depth','Magnitude']:\n",
        "        if 0 not in data[feature].unique():\n",
        "            temp=data.copy()\n",
        "            temp[feature]=np.log(temp[feature])\n",
        "            temp['Depth']=np.log(temp['Depth'])\n",
        "            temp['Magnitude']=np.log(temp['Magnitude'])\n",
        "\n",
        "            plt.scatter(temp[feature],temp['Depth'])\n",
        "            plt.xlabel('Depth')\n",
        "            plt.ylabel(feature)\n",
        "            plt.title(feature)\n",
        "            plt.show()\n",
        "\n",
        "            plt.scatter(temp[feature],temp['Magnitude'])\n",
        "            plt.xlabel('Magnitude')\n",
        "            plt.ylabel(feature)\n",
        "            plt.title(feature)\n",
        "            plt.show()\n",
        "\n",
        "            temp[feature].hist(bins=25)\n",
        "            plt.xlabel(feature)\n",
        "            plt.ylabel('Count')\n",
        "            plt.title(feature)\n",
        "            plt.show()\n"
      ],
      "execution_count": 15,
      "outputs": [
        {
          "output_type": "stream",
          "text": [
            "/usr/local/lib/python3.6/dist-packages/pandas/core/series.py:679: RuntimeWarning: invalid value encountered in log\n",
            "  result = getattr(ufunc, method)(*inputs, **kwargs)\n",
            "/usr/local/lib/python3.6/dist-packages/pandas/core/series.py:679: RuntimeWarning: divide by zero encountered in log\n",
            "  result = getattr(ufunc, method)(*inputs, **kwargs)\n"
          ],
          "name": "stderr"
        },
        {
          "output_type": "display_data",
          "data": {
            "image/png": "[encoded data removed]",
            "text/plain": [
              "<Figure size 432x288 with 1 Axes>"
            ]
          },
          "metadata": {
            "tags": [],
            "needs_background": "light"
          }
        },
        {
          "output_type": "display_data",
          "data": {
            "image/png": "[encoded data removed]",
            "text/plain": [
              "<Figure size 432x288 with 1 Axes>"
            ]
          },
          "metadata": {
            "tags": [],
            "needs_background": "light"
          }
        },
        {
          "output_type": "display_data",
          "data": {
            "image/png": "[encoded data removed]",
            "text/plain": [
              "<Figure size 432x288 with 1 Axes>"
            ]
          },
          "metadata": {
            "tags": [],
            "needs_background": "light"
          }
        },
        {
          "output_type": "display_data",
          "data": {
            "image/png": "[encoded data removed]",
            "text/plain": [
              "<Figure size 432x288 with 1 Axes>"
            ]
          },
          "metadata": {
            "tags": [],
            "needs_background": "light"
          }
        },
        {
          "output_type": "display_data",
          "data": {
            "image/png": "[encoded data removed]",
            "text/plain": [
              "<Figure size 432x288 with 1 Axes>"
            ]
          },
          "metadata": {
            "tags": [],
            "needs_background": "light"
          }
        },
        {
          "output_type": "display_data",
          "data": {
            "image/png": "[encoded data removed]",
            "text/plain": [
              "<Figure size 432x288 with 1 Axes>"
            ]
          },
          "metadata": {
            "tags": [],
            "needs_background": "light"
          }
        }
      ]
    },
    {
      "cell_type": "markdown",
      "metadata": {
        "id": "tAXbLiiTs_KR",
        "colab_type": "text"
      },
      "source": [
        "From above histogram, we can see that Log normalisation did not fix the problem but made it worse by right-skewing the data. As it is a Regression problem data, let's try to train and test the model first and verify the variance and bias (train and test error)."
      ]
    },
    {
      "cell_type": "markdown",
      "metadata": {
        "id": "1cIi8BCutmyc",
        "colab_type": "text"
      },
      "source": [
        "Let's check for outliers for continuous features."
      ]
    },
    {
      "cell_type": "code",
      "metadata": {
        "id": "he5W3CFcmQMw",
        "colab_type": "code",
        "colab": {
          "base_uri": "https://localhost:8080/",
          "height": 704
        },
        "outputId": "ed254e55-f99c-4433-af48-d98df3fbc0b9"
      },
      "source": [
        "for feature in data.columns:\n",
        "    if data[feature].dtype != 'O' and feature not in ['Depth','Magnitude']:\n",
        "        if 0 not in data[feature].unique():\n",
        "            temp=data.copy()\n",
        "            temp[feature]=np.log(temp[feature])\n",
        "            temp['Depth']=np.log(temp['Depth'])\n",
        "            temp['Magnitude']=np.log(temp['Magnitude'])\n",
        "\n",
        "            temp.boxplot(column=feature)\n",
        "            plt.ylabel(feature)\n",
        "            plt.title(feature)\n",
        "            plt.show()"
      ],
      "execution_count": 16,
      "outputs": [
        {
          "output_type": "stream",
          "text": [
            "/usr/local/lib/python3.6/dist-packages/pandas/core/series.py:679: RuntimeWarning: invalid value encountered in log\n",
            "  result = getattr(ufunc, method)(*inputs, **kwargs)\n",
            "/usr/local/lib/python3.6/dist-packages/pandas/core/series.py:679: RuntimeWarning: divide by zero encountered in log\n",
            "  result = getattr(ufunc, method)(*inputs, **kwargs)\n"
          ],
          "name": "stderr"
        },
        {
          "output_type": "display_data",
          "data": {
            "image/png": "[encoded data removed]",
            "text/plain": [
              "<Figure size 432x288 with 1 Axes>"
            ]
          },
          "metadata": {
            "tags": [],
            "needs_background": "light"
          }
        },
        {
          "output_type": "stream",
          "text": [
            "/usr/local/lib/python3.6/dist-packages/pandas/core/series.py:679: RuntimeWarning: invalid value encountered in log\n",
            "  result = getattr(ufunc, method)(*inputs, **kwargs)\n",
            "/usr/local/lib/python3.6/dist-packages/pandas/core/series.py:679: RuntimeWarning: divide by zero encountered in log\n",
            "  result = getattr(ufunc, method)(*inputs, **kwargs)\n"
          ],
          "name": "stderr"
        },
        {
          "output_type": "display_data",
          "data": {
            "image/png": "[encoded data removed]",
            "text/plain": [
              "<Figure size 432x288 with 1 Axes>"
            ]
          },
          "metadata": {
            "tags": [],
            "needs_background": "light"
          }
        }
      ]
    },
    {
      "cell_type": "markdown",
      "metadata": {
        "id": "EagJcN-quoMU",
        "colab_type": "text"
      },
      "source": [
        "From above box plot, we can see that as previously discussed log normalisation is making the data worse and skewed which is visible from the box plot as well."
      ]
    },
    {
      "cell_type": "markdown",
      "metadata": {
        "id": "Ct6VXa0Vu70j",
        "colab_type": "text"
      },
      "source": [
        "Categorical Features"
      ]
    },
    {
      "cell_type": "code",
      "metadata": {
        "id": "5TilVknxm5aq",
        "colab_type": "code",
        "colab": {
          "base_uri": "https://localhost:8080/",
          "height": 121
        },
        "outputId": "edb667ac-1d74-4f68-bbe9-ff249c113666"
      },
      "source": [
        "## checking the number of unique features for categorical features\n",
        "\n",
        "for feature in data.columns:\n",
        "    if data[feature].dtype=='O':\n",
        "        print('{}: {} unique categories'.format(feature,len(data[feature].unique())))\n"
      ],
      "execution_count": 17,
      "outputs": [
        {
          "output_type": "stream",
          "text": [
            "Type: 4 unique categories\n",
            "Magnitude Type: 11 unique categories\n",
            "Source: 13 unique categories\n",
            "Location Source: 48 unique categories\n",
            "Magnitude Source: 24 unique categories\n",
            "Status: 2 unique categories\n"
          ],
          "name": "stdout"
        }
      ]
    },
    {
      "cell_type": "markdown",
      "metadata": {
        "id": "DH2dnhs-eMFT",
        "colab_type": "text"
      },
      "source": [
        "Finding the relation between the categorical features and the dependent features (Magnitude, Depth)."
      ]
    },
    {
      "cell_type": "code",
      "metadata": {
        "id": "a6Fca21xdlXa",
        "colab_type": "code",
        "colab": {
          "base_uri": "https://localhost:8080/",
          "height": 1000
        },
        "outputId": "7b82e678-9f92-4a45-f2ce-999b91b25f96"
      },
      "source": [
        "for feature in data.columns:\n",
        "    if data[feature].dtype=='O':\n",
        "        data.groupby(feature)['Magnitude','Depth'].median().plot.bar()\n",
        "        plt.xlabel(feature)\n",
        "        plt.ylabel('Median of Magnitude and Depth')\n",
        "        plt.title(feature)\n",
        "        plt.show()\n"
      ],
      "execution_count": 18,
      "outputs": [
        {
          "output_type": "stream",
          "text": [
            "/usr/local/lib/python3.6/dist-packages/ipykernel_launcher.py:3: FutureWarning: Indexing with multiple keys (implicitly converted to a tuple of keys) will be deprecated, use a list instead.\n",
            "  This is separate from the ipykernel package so we can avoid doing imports until\n"
          ],
          "name": "stderr"
        },
        {
          "output_type": "display_data",
          "data": {
            "image/png": "[encoded data removed]",
            "text/plain": [
              "<Figure size 432x288 with 1 Axes>"
            ]
          },
          "metadata": {
            "tags": [],
            "needs_background": "light"
          }
        },
        {
          "output_type": "display_data",
          "data": {
            "image/png": "[encoded data removed]",
            "text/plain": [
              "<Figure size 432x288 with 1 Axes>"
            ]
          },
          "metadata": {
            "tags": [],
            "needs_background": "light"
          }
        },
        {
          "output_type": "display_data",
          "data": {
            "image/png": "[encoded data removed]",
            "text/plain": [
              "<Figure size 432x288 with 1 Axes>"
            ]
          },
          "metadata": {
            "tags": [],
            "needs_background": "light"
          }
        },
        {
          "output_type": "display_data",
          "data": {
            "image/png": "[encoded data removed]",
            "text/plain": [
              "<Figure size 432x288 with 1 Axes>"
            ]
          },
          "metadata": {
            "tags": [],
            "needs_background": "light"
          }
        },
        {
          "output_type": "display_data",
          "data": {
            "image/png": "[encoded data removed]",
            "text/plain": [
              "<Figure size 432x288 with 1 Axes>"
            ]
          },
          "metadata": {
            "tags": [],
            "needs_background": "light"
          }
        },
        {
          "output_type": "display_data",
          "data": {
            "image/png": "[encoded data removed]",
            "text/plain": [
              "<Figure size 432x288 with 1 Axes>"
            ]
          },
          "metadata": {
            "tags": [],
            "needs_background": "light"
          }
        }
      ]
    },
    {
      "cell_type": "code",
      "metadata": {
        "id": "Sq5RdEBIeyyO",
        "colab_type": "code",
        "colab": {
          "base_uri": "https://localhost:8080/",
          "height": 52
        },
        "outputId": "3c96f0b3-925e-4067-b6ae-cb31903fd1ce"
      },
      "source": [
        "for feature in data.columns:\n",
        "    if data[feature].isnull().sum()>0:\n",
        "        print(feature,data[feature].dtype)"
      ],
      "execution_count": 19,
      "outputs": [
        {
          "output_type": "stream",
          "text": [
            "Magnitude Type object\n",
            "Root Mean Square float64\n"
          ],
          "name": "stdout"
        }
      ]
    },
    {
      "cell_type": "markdown",
      "metadata": {
        "id": "Qy9wGwrEf2Ri",
        "colab_type": "text"
      },
      "source": [
        "# Feature Engineering"
      ]
    },
    {
      "cell_type": "markdown",
      "metadata": {
        "id": "LMWbAM4QgIRo",
        "colab_type": "text"
      },
      "source": [
        "Missing Values"
      ]
    },
    {
      "cell_type": "code",
      "metadata": {
        "id": "1BxruiqSfi5N",
        "colab_type": "code",
        "colab": {
          "base_uri": "https://localhost:8080/",
          "height": 35
        },
        "outputId": "941a39cd-7b30-425f-b443-59c81db921b3"
      },
      "source": [
        "## Categorical features\n",
        "for feature in data.columns:\n",
        "    if data[feature].dtype=='O' and data[feature].isnull().sum()>0:\n",
        "        print('{}: {}% missing values and total {} missing values out of {}'.format(feature,np.round(data[feature].isnull().mean(),4),data[feature].isnull().sum(),len(data[feature])))"
      ],
      "execution_count": 20,
      "outputs": [
        {
          "output_type": "stream",
          "text": [
            "Magnitude Type: 0.0001% missing values and total 3 missing values out of 23412\n"
          ],
          "name": "stdout"
        }
      ]
    },
    {
      "cell_type": "markdown",
      "metadata": {
        "id": "M5e63XhChVKP",
        "colab_type": "text"
      },
      "source": [
        "We can see that the missing percentage is very small and we can eliminate those records. But as our dataset is already small let's replace the missing values with a placeholder \"Missing\"."
      ]
    },
    {
      "cell_type": "code",
      "metadata": {
        "id": "QomLYGGYgmRN",
        "colab_type": "code",
        "colab": {}
      },
      "source": [
        "for feature in data.columns:\n",
        "    if data[feature].dtype=='O' and data[feature].isnull().sum()>0:        \n",
        "        data[feature]=data[feature].fillna('Missing')\n",
        "        "
      ],
      "execution_count": 21,
      "outputs": []
    },
    {
      "cell_type": "code",
      "metadata": {
        "id": "7x5-u4AKhoPY",
        "colab_type": "code",
        "colab": {
          "base_uri": "https://localhost:8080/",
          "height": 35
        },
        "outputId": "2dd987a4-8e20-4631-edca-847b9d0f7852"
      },
      "source": [
        "## Numerical features\n",
        "## Also we would be creating a new column with _NaN as suffix. \n",
        "## This column would have 1 for NaN and 0 for rest. More data.\n",
        "## Also, we would be replacing the NaN with median of that column.\n",
        "## Using the median would help avoid outliers.\n",
        "for feature in data.columns:\n",
        "    if data[feature].dtype!='O' and data[feature].isnull().sum()>0:\n",
        "        feature_median=data[feature].median()\n",
        "        print('{} median: {}'.format(feature,feature_median))\n",
        "        data[feature+'_NaN']=np.where(data[feature].isnull(),1,0)\n",
        "        data[feature].fillna(feature_median,inplace=True)\n",
        "\n"
      ],
      "execution_count": 22,
      "outputs": [
        {
          "output_type": "stream",
          "text": [
            "Root Mean Square median: 1.0\n"
          ],
          "name": "stdout"
        }
      ]
    },
    {
      "cell_type": "code",
      "metadata": {
        "id": "-RReOrGfj96E",
        "colab_type": "code",
        "colab": {
          "base_uri": "https://localhost:8080/",
          "height": 1000
        },
        "outputId": "5e4a5f2d-fa6f-475a-a559-e8ce9cb0dcab"
      },
      "source": [
        "data.head(50)"
      ],
      "execution_count": 23,
      "outputs": [
        {
          "output_type": "execute_result",
          "data": {
            "text/html": [
              "<div>\n",
              "<style scoped>\n",
              "    .dataframe tbody tr th:only-of-type {\n",
              "        vertical-align: middle;\n",
              "    }\n",
              "\n",
              "    .dataframe tbody tr th {\n",
              "        vertical-align: top;\n",
              "    }\n",
              "\n",
              "    .dataframe thead th {\n",
              "        text-align: right;\n",
              "    }\n",
              "</style>\n",
              "<table border=\"1\" class=\"dataframe\">\n",
              "  <thead>\n",
              "    <tr style=\"text-align: right;\">\n",
              "      <th></th>\n",
              "      <th>Latitude</th>\n",
              "      <th>Longitude</th>\n",
              "      <th>Type</th>\n",
              "      <th>Depth</th>\n",
              "      <th>Magnitude</th>\n",
              "      <th>Magnitude Type</th>\n",
              "      <th>Root Mean Square</th>\n",
              "      <th>Source</th>\n",
              "      <th>Location Source</th>\n",
              "      <th>Magnitude Source</th>\n",
              "      <th>Status</th>\n",
              "      <th>TimeStamp</th>\n",
              "      <th>Root Mean Square_NaN</th>\n",
              "    </tr>\n",
              "  </thead>\n",
              "  <tbody>\n",
              "    <tr>\n",
              "      <th>0</th>\n",
              "      <td>19.246</td>\n",
              "      <td>145.616</td>\n",
              "      <td>Earthquake</td>\n",
              "      <td>131.6</td>\n",
              "      <td>6.0</td>\n",
              "      <td>MW</td>\n",
              "      <td>1.0</td>\n",
              "      <td>ISCGEM</td>\n",
              "      <td>ISCGEM</td>\n",
              "      <td>ISCGEM</td>\n",
              "      <td>Automatic</td>\n",
              "      <td>-157630542.0</td>\n",
              "      <td>1</td>\n",
              "    </tr>\n",
              "    <tr>\n",
              "      <th>1</th>\n",
              "      <td>1.863</td>\n",
              "      <td>127.352</td>\n",
              "      <td>Earthquake</td>\n",
              "      <td>80.0</td>\n",
              "      <td>5.8</td>\n",
              "      <td>MW</td>\n",
              "      <td>1.0</td>\n",
              "      <td>ISCGEM</td>\n",
              "      <td>ISCGEM</td>\n",
              "      <td>ISCGEM</td>\n",
              "      <td>Automatic</td>\n",
              "      <td>-157465811.0</td>\n",
              "      <td>1</td>\n",
              "    </tr>\n",
              "    <tr>\n",
              "      <th>2</th>\n",
              "      <td>-20.579</td>\n",
              "      <td>-173.972</td>\n",
              "      <td>Earthquake</td>\n",
              "      <td>20.0</td>\n",
              "      <td>6.2</td>\n",
              "      <td>MW</td>\n",
              "      <td>1.0</td>\n",
              "      <td>ISCGEM</td>\n",
              "      <td>ISCGEM</td>\n",
              "      <td>ISCGEM</td>\n",
              "      <td>Automatic</td>\n",
              "      <td>-157355642.0</td>\n",
              "      <td>1</td>\n",
              "    </tr>\n",
              "    <tr>\n",
              "      <th>3</th>\n",
              "      <td>-59.076</td>\n",
              "      <td>-23.557</td>\n",
              "      <td>Earthquake</td>\n",
              "      <td>15.0</td>\n",
              "      <td>5.8</td>\n",
              "      <td>MW</td>\n",
              "      <td>1.0</td>\n",
              "      <td>ISCGEM</td>\n",
              "      <td>ISCGEM</td>\n",
              "      <td>ISCGEM</td>\n",
              "      <td>Automatic</td>\n",
              "      <td>-157093817.0</td>\n",
              "      <td>1</td>\n",
              "    </tr>\n",
              "    <tr>\n",
              "      <th>4</th>\n",
              "      <td>11.938</td>\n",
              "      <td>126.427</td>\n",
              "      <td>Earthquake</td>\n",
              "      <td>15.0</td>\n",
              "      <td>5.8</td>\n",
              "      <td>MW</td>\n",
              "      <td>1.0</td>\n",
              "      <td>ISCGEM</td>\n",
              "      <td>ISCGEM</td>\n",
              "      <td>ISCGEM</td>\n",
              "      <td>Automatic</td>\n",
              "      <td>-157026430.0</td>\n",
              "      <td>1</td>\n",
              "    </tr>\n",
              "    <tr>\n",
              "      <th>5</th>\n",
              "      <td>-13.405</td>\n",
              "      <td>166.629</td>\n",
              "      <td>Earthquake</td>\n",
              "      <td>35.0</td>\n",
              "      <td>6.7</td>\n",
              "      <td>MW</td>\n",
              "      <td>1.0</td>\n",
              "      <td>ISCGEM</td>\n",
              "      <td>ISCGEM</td>\n",
              "      <td>ISCGEM</td>\n",
              "      <td>Automatic</td>\n",
              "      <td>-156939808.0</td>\n",
              "      <td>1</td>\n",
              "    </tr>\n",
              "    <tr>\n",
              "      <th>6</th>\n",
              "      <td>27.357</td>\n",
              "      <td>87.867</td>\n",
              "      <td>Earthquake</td>\n",
              "      <td>20.0</td>\n",
              "      <td>5.9</td>\n",
              "      <td>MW</td>\n",
              "      <td>1.0</td>\n",
              "      <td>ISCGEM</td>\n",
              "      <td>ISCGEM</td>\n",
              "      <td>ISCGEM</td>\n",
              "      <td>Automatic</td>\n",
              "      <td>-156767255.0</td>\n",
              "      <td>1</td>\n",
              "    </tr>\n",
              "    <tr>\n",
              "      <th>7</th>\n",
              "      <td>-13.309</td>\n",
              "      <td>166.212</td>\n",
              "      <td>Earthquake</td>\n",
              "      <td>35.0</td>\n",
              "      <td>6.0</td>\n",
              "      <td>MW</td>\n",
              "      <td>1.0</td>\n",
              "      <td>ISCGEM</td>\n",
              "      <td>ISCGEM</td>\n",
              "      <td>ISCGEM</td>\n",
              "      <td>Automatic</td>\n",
              "      <td>-156472938.0</td>\n",
              "      <td>1</td>\n",
              "    </tr>\n",
              "    <tr>\n",
              "      <th>8</th>\n",
              "      <td>-56.452</td>\n",
              "      <td>-27.043</td>\n",
              "      <td>Earthquake</td>\n",
              "      <td>95.0</td>\n",
              "      <td>6.0</td>\n",
              "      <td>MW</td>\n",
              "      <td>1.0</td>\n",
              "      <td>ISCGEMSUP</td>\n",
              "      <td>ISCGEM</td>\n",
              "      <td>ISCGEM</td>\n",
              "      <td>Automatic</td>\n",
              "      <td>-156428843.0</td>\n",
              "      <td>1</td>\n",
              "    </tr>\n",
              "    <tr>\n",
              "      <th>9</th>\n",
              "      <td>-24.563</td>\n",
              "      <td>178.487</td>\n",
              "      <td>Earthquake</td>\n",
              "      <td>565.0</td>\n",
              "      <td>5.8</td>\n",
              "      <td>MW</td>\n",
              "      <td>1.0</td>\n",
              "      <td>ISCGEM</td>\n",
              "      <td>ISCGEM</td>\n",
              "      <td>ISCGEM</td>\n",
              "      <td>Automatic</td>\n",
              "      <td>-156345403.0</td>\n",
              "      <td>1</td>\n",
              "    </tr>\n",
              "    <tr>\n",
              "      <th>10</th>\n",
              "      <td>-6.807</td>\n",
              "      <td>108.988</td>\n",
              "      <td>Earthquake</td>\n",
              "      <td>227.9</td>\n",
              "      <td>5.9</td>\n",
              "      <td>MW</td>\n",
              "      <td>1.0</td>\n",
              "      <td>ISCGEM</td>\n",
              "      <td>ISCGEM</td>\n",
              "      <td>ISCGEM</td>\n",
              "      <td>Automatic</td>\n",
              "      <td>-156308539.0</td>\n",
              "      <td>1</td>\n",
              "    </tr>\n",
              "    <tr>\n",
              "      <th>11</th>\n",
              "      <td>-2.608</td>\n",
              "      <td>125.952</td>\n",
              "      <td>Earthquake</td>\n",
              "      <td>20.0</td>\n",
              "      <td>8.2</td>\n",
              "      <td>MW</td>\n",
              "      <td>1.0</td>\n",
              "      <td>ISCGEM</td>\n",
              "      <td>ISCGEM</td>\n",
              "      <td>ISCGEM</td>\n",
              "      <td>Automatic</td>\n",
              "      <td>-155778523.0</td>\n",
              "      <td>1</td>\n",
              "    </tr>\n",
              "    <tr>\n",
              "      <th>12</th>\n",
              "      <td>54.636</td>\n",
              "      <td>161.703</td>\n",
              "      <td>Earthquake</td>\n",
              "      <td>55.0</td>\n",
              "      <td>5.5</td>\n",
              "      <td>MW</td>\n",
              "      <td>1.0</td>\n",
              "      <td>ISCGEM</td>\n",
              "      <td>ISCGEM</td>\n",
              "      <td>ISCGEM</td>\n",
              "      <td>Automatic</td>\n",
              "      <td>-155312670.0</td>\n",
              "      <td>1</td>\n",
              "    </tr>\n",
              "    <tr>\n",
              "      <th>13</th>\n",
              "      <td>-18.697</td>\n",
              "      <td>-177.864</td>\n",
              "      <td>Earthquake</td>\n",
              "      <td>482.9</td>\n",
              "      <td>5.6</td>\n",
              "      <td>MW</td>\n",
              "      <td>1.0</td>\n",
              "      <td>ISCGEM</td>\n",
              "      <td>ISCGEM</td>\n",
              "      <td>ISCGEM</td>\n",
              "      <td>Automatic</td>\n",
              "      <td>-155068374.0</td>\n",
              "      <td>1</td>\n",
              "    </tr>\n",
              "    <tr>\n",
              "      <th>14</th>\n",
              "      <td>37.523</td>\n",
              "      <td>73.251</td>\n",
              "      <td>Earthquake</td>\n",
              "      <td>15.0</td>\n",
              "      <td>6.0</td>\n",
              "      <td>MW</td>\n",
              "      <td>1.0</td>\n",
              "      <td>ISCGEM</td>\n",
              "      <td>ISCGEM</td>\n",
              "      <td>ISCGEM</td>\n",
              "      <td>Automatic</td>\n",
              "      <td>-154944189.0</td>\n",
              "      <td>1</td>\n",
              "    </tr>\n",
              "    <tr>\n",
              "      <th>15</th>\n",
              "      <td>-51.840</td>\n",
              "      <td>139.741</td>\n",
              "      <td>Earthquake</td>\n",
              "      <td>10.0</td>\n",
              "      <td>6.1</td>\n",
              "      <td>MW</td>\n",
              "      <td>1.0</td>\n",
              "      <td>ISCGEM</td>\n",
              "      <td>ISCGEM</td>\n",
              "      <td>ISCGEM</td>\n",
              "      <td>Automatic</td>\n",
              "      <td>-154816500.0</td>\n",
              "      <td>1</td>\n",
              "    </tr>\n",
              "    <tr>\n",
              "      <th>16</th>\n",
              "      <td>51.251</td>\n",
              "      <td>178.715</td>\n",
              "      <td>Earthquake</td>\n",
              "      <td>30.3</td>\n",
              "      <td>8.7</td>\n",
              "      <td>MW</td>\n",
              "      <td>1.0</td>\n",
              "      <td>OFFICIAL</td>\n",
              "      <td>ISCGEM</td>\n",
              "      <td>OFFICIAL</td>\n",
              "      <td>Automatic</td>\n",
              "      <td>-154810718.0</td>\n",
              "      <td>1</td>\n",
              "    </tr>\n",
              "    <tr>\n",
              "      <th>17</th>\n",
              "      <td>51.639</td>\n",
              "      <td>175.055</td>\n",
              "      <td>Earthquake</td>\n",
              "      <td>30.0</td>\n",
              "      <td>6.0</td>\n",
              "      <td>MW</td>\n",
              "      <td>1.0</td>\n",
              "      <td>ISCGEMSUP</td>\n",
              "      <td>ISCGEM</td>\n",
              "      <td>ISCGEM</td>\n",
              "      <td>Automatic</td>\n",
              "      <td>-154806901.0</td>\n",
              "      <td>1</td>\n",
              "    </tr>\n",
              "    <tr>\n",
              "      <th>18</th>\n",
              "      <td>52.528</td>\n",
              "      <td>172.007</td>\n",
              "      <td>Earthquake</td>\n",
              "      <td>25.0</td>\n",
              "      <td>5.7</td>\n",
              "      <td>MW</td>\n",
              "      <td>1.0</td>\n",
              "      <td>ISCGEM</td>\n",
              "      <td>ISCGEM</td>\n",
              "      <td>ISCGEM</td>\n",
              "      <td>Automatic</td>\n",
              "      <td>-154804974.0</td>\n",
              "      <td>1</td>\n",
              "    </tr>\n",
              "    <tr>\n",
              "      <th>19</th>\n",
              "      <td>51.626</td>\n",
              "      <td>175.746</td>\n",
              "      <td>Earthquake</td>\n",
              "      <td>25.0</td>\n",
              "      <td>5.8</td>\n",
              "      <td>MW</td>\n",
              "      <td>1.0</td>\n",
              "      <td>ISCGEM</td>\n",
              "      <td>ISCGEM</td>\n",
              "      <td>ISCGEM</td>\n",
              "      <td>Automatic</td>\n",
              "      <td>-154804828.0</td>\n",
              "      <td>1</td>\n",
              "    </tr>\n",
              "    <tr>\n",
              "      <th>20</th>\n",
              "      <td>51.037</td>\n",
              "      <td>177.848</td>\n",
              "      <td>Earthquake</td>\n",
              "      <td>25.0</td>\n",
              "      <td>5.9</td>\n",
              "      <td>MW</td>\n",
              "      <td>1.0</td>\n",
              "      <td>ISCGEMSUP</td>\n",
              "      <td>ISCGEM</td>\n",
              "      <td>ISCGEM</td>\n",
              "      <td>Automatic</td>\n",
              "      <td>-154802917.0</td>\n",
              "      <td>1</td>\n",
              "    </tr>\n",
              "    <tr>\n",
              "      <th>21</th>\n",
              "      <td>51.730</td>\n",
              "      <td>173.975</td>\n",
              "      <td>Earthquake</td>\n",
              "      <td>20.0</td>\n",
              "      <td>5.9</td>\n",
              "      <td>MW</td>\n",
              "      <td>1.0</td>\n",
              "      <td>ISCGEM</td>\n",
              "      <td>ISCGEM</td>\n",
              "      <td>ISCGEM</td>\n",
              "      <td>Automatic</td>\n",
              "      <td>-154802701.0</td>\n",
              "      <td>1</td>\n",
              "    </tr>\n",
              "    <tr>\n",
              "      <th>22</th>\n",
              "      <td>51.775</td>\n",
              "      <td>173.058</td>\n",
              "      <td>Earthquake</td>\n",
              "      <td>10.0</td>\n",
              "      <td>5.7</td>\n",
              "      <td>MW</td>\n",
              "      <td>1.0</td>\n",
              "      <td>ISCGEM</td>\n",
              "      <td>ISCGEM</td>\n",
              "      <td>ISCGEM</td>\n",
              "      <td>Automatic</td>\n",
              "      <td>-154802208.0</td>\n",
              "      <td>1</td>\n",
              "    </tr>\n",
              "    <tr>\n",
              "      <th>23</th>\n",
              "      <td>52.611</td>\n",
              "      <td>172.588</td>\n",
              "      <td>Earthquake</td>\n",
              "      <td>24.0</td>\n",
              "      <td>5.7</td>\n",
              "      <td>MW</td>\n",
              "      <td>1.0</td>\n",
              "      <td>ISCGEMSUP</td>\n",
              "      <td>ISCGEM</td>\n",
              "      <td>ISCGEM</td>\n",
              "      <td>Automatic</td>\n",
              "      <td>-154800977.0</td>\n",
              "      <td>1</td>\n",
              "    </tr>\n",
              "    <tr>\n",
              "      <th>24</th>\n",
              "      <td>51.831</td>\n",
              "      <td>174.368</td>\n",
              "      <td>Earthquake</td>\n",
              "      <td>31.8</td>\n",
              "      <td>5.7</td>\n",
              "      <td>MW</td>\n",
              "      <td>1.0</td>\n",
              "      <td>ISCGEM</td>\n",
              "      <td>ISCGEM</td>\n",
              "      <td>ISCGEM</td>\n",
              "      <td>Automatic</td>\n",
              "      <td>-154799623.0</td>\n",
              "      <td>1</td>\n",
              "    </tr>\n",
              "    <tr>\n",
              "      <th>25</th>\n",
              "      <td>51.948</td>\n",
              "      <td>173.969</td>\n",
              "      <td>Earthquake</td>\n",
              "      <td>20.0</td>\n",
              "      <td>5.6</td>\n",
              "      <td>MW</td>\n",
              "      <td>1.0</td>\n",
              "      <td>ISCGEM</td>\n",
              "      <td>ISCGEM</td>\n",
              "      <td>ISCGEM</td>\n",
              "      <td>Automatic</td>\n",
              "      <td>-154797979.0</td>\n",
              "      <td>1</td>\n",
              "    </tr>\n",
              "    <tr>\n",
              "      <th>26</th>\n",
              "      <td>51.443</td>\n",
              "      <td>179.605</td>\n",
              "      <td>Earthquake</td>\n",
              "      <td>30.0</td>\n",
              "      <td>7.3</td>\n",
              "      <td>MW</td>\n",
              "      <td>1.0</td>\n",
              "      <td>ISCGEM</td>\n",
              "      <td>ISCGEM</td>\n",
              "      <td>ISCGEM</td>\n",
              "      <td>Automatic</td>\n",
              "      <td>-154797556.0</td>\n",
              "      <td>1</td>\n",
              "    </tr>\n",
              "    <tr>\n",
              "      <th>27</th>\n",
              "      <td>52.773</td>\n",
              "      <td>171.974</td>\n",
              "      <td>Earthquake</td>\n",
              "      <td>30.0</td>\n",
              "      <td>6.5</td>\n",
              "      <td>MW</td>\n",
              "      <td>1.0</td>\n",
              "      <td>ISCGEM</td>\n",
              "      <td>ISCGEM</td>\n",
              "      <td>ISCGEM</td>\n",
              "      <td>Automatic</td>\n",
              "      <td>-154785232.0</td>\n",
              "      <td>1</td>\n",
              "    </tr>\n",
              "    <tr>\n",
              "      <th>28</th>\n",
              "      <td>51.772</td>\n",
              "      <td>174.696</td>\n",
              "      <td>Earthquake</td>\n",
              "      <td>20.0</td>\n",
              "      <td>5.6</td>\n",
              "      <td>MW</td>\n",
              "      <td>1.0</td>\n",
              "      <td>ISCGEM</td>\n",
              "      <td>ISCGEM</td>\n",
              "      <td>ISCGEM</td>\n",
              "      <td>Automatic</td>\n",
              "      <td>-154782541.0</td>\n",
              "      <td>1</td>\n",
              "    </tr>\n",
              "    <tr>\n",
              "      <th>29</th>\n",
              "      <td>52.975</td>\n",
              "      <td>171.091</td>\n",
              "      <td>Earthquake</td>\n",
              "      <td>25.0</td>\n",
              "      <td>6.4</td>\n",
              "      <td>MW</td>\n",
              "      <td>1.0</td>\n",
              "      <td>ISCGEM</td>\n",
              "      <td>ISCGEM</td>\n",
              "      <td>ISCGEM</td>\n",
              "      <td>Automatic</td>\n",
              "      <td>-154777291.0</td>\n",
              "      <td>1</td>\n",
              "    </tr>\n",
              "    <tr>\n",
              "      <th>30</th>\n",
              "      <td>52.990</td>\n",
              "      <td>170.874</td>\n",
              "      <td>Earthquake</td>\n",
              "      <td>25.0</td>\n",
              "      <td>5.8</td>\n",
              "      <td>MW</td>\n",
              "      <td>1.0</td>\n",
              "      <td>ISCGEM</td>\n",
              "      <td>ISCGEM</td>\n",
              "      <td>ISCGEM</td>\n",
              "      <td>Automatic</td>\n",
              "      <td>-154771715.0</td>\n",
              "      <td>1</td>\n",
              "    </tr>\n",
              "    <tr>\n",
              "      <th>31</th>\n",
              "      <td>51.536</td>\n",
              "      <td>175.045</td>\n",
              "      <td>Earthquake</td>\n",
              "      <td>25.0</td>\n",
              "      <td>5.8</td>\n",
              "      <td>MW</td>\n",
              "      <td>1.0</td>\n",
              "      <td>ISCGEM</td>\n",
              "      <td>ISCGEM</td>\n",
              "      <td>ISCGEM</td>\n",
              "      <td>Automatic</td>\n",
              "      <td>-154761948.0</td>\n",
              "      <td>1</td>\n",
              "    </tr>\n",
              "    <tr>\n",
              "      <th>32</th>\n",
              "      <td>13.245</td>\n",
              "      <td>-44.922</td>\n",
              "      <td>Earthquake</td>\n",
              "      <td>10.0</td>\n",
              "      <td>5.8</td>\n",
              "      <td>MW</td>\n",
              "      <td>1.0</td>\n",
              "      <td>ISCGEM</td>\n",
              "      <td>ISCGEM</td>\n",
              "      <td>ISCGEM</td>\n",
              "      <td>Automatic</td>\n",
              "      <td>-154757756.0</td>\n",
              "      <td>1</td>\n",
              "    </tr>\n",
              "    <tr>\n",
              "      <th>33</th>\n",
              "      <td>51.812</td>\n",
              "      <td>174.206</td>\n",
              "      <td>Earthquake</td>\n",
              "      <td>10.0</td>\n",
              "      <td>5.7</td>\n",
              "      <td>MW</td>\n",
              "      <td>1.0</td>\n",
              "      <td>ISCGEM</td>\n",
              "      <td>ISCGEM</td>\n",
              "      <td>ISCGEM</td>\n",
              "      <td>Automatic</td>\n",
              "      <td>-154747797.0</td>\n",
              "      <td>1</td>\n",
              "    </tr>\n",
              "    <tr>\n",
              "      <th>34</th>\n",
              "      <td>51.762</td>\n",
              "      <td>174.841</td>\n",
              "      <td>Earthquake</td>\n",
              "      <td>25.0</td>\n",
              "      <td>5.7</td>\n",
              "      <td>MW</td>\n",
              "      <td>1.0</td>\n",
              "      <td>ISCGEM</td>\n",
              "      <td>ISCGEM</td>\n",
              "      <td>ISCGEM</td>\n",
              "      <td>Automatic</td>\n",
              "      <td>-154718410.0</td>\n",
              "      <td>1</td>\n",
              "    </tr>\n",
              "    <tr>\n",
              "      <th>35</th>\n",
              "      <td>52.438</td>\n",
              "      <td>174.321</td>\n",
              "      <td>Earthquake</td>\n",
              "      <td>39.5</td>\n",
              "      <td>6.3</td>\n",
              "      <td>MW</td>\n",
              "      <td>1.0</td>\n",
              "      <td>ISCGEM</td>\n",
              "      <td>ISCGEM</td>\n",
              "      <td>ISCGEM</td>\n",
              "      <td>Automatic</td>\n",
              "      <td>-154708069.0</td>\n",
              "      <td>1</td>\n",
              "    </tr>\n",
              "    <tr>\n",
              "      <th>36</th>\n",
              "      <td>51.946</td>\n",
              "      <td>173.840</td>\n",
              "      <td>Earthquake</td>\n",
              "      <td>30.0</td>\n",
              "      <td>5.7</td>\n",
              "      <td>MW</td>\n",
              "      <td>1.0</td>\n",
              "      <td>ISCGEM</td>\n",
              "      <td>ISCGEM</td>\n",
              "      <td>ISCGEM</td>\n",
              "      <td>Automatic</td>\n",
              "      <td>-154693273.0</td>\n",
              "      <td>1</td>\n",
              "    </tr>\n",
              "    <tr>\n",
              "      <th>37</th>\n",
              "      <td>51.738</td>\n",
              "      <td>174.566</td>\n",
              "      <td>Earthquake</td>\n",
              "      <td>20.0</td>\n",
              "      <td>6.0</td>\n",
              "      <td>MW</td>\n",
              "      <td>1.0</td>\n",
              "      <td>ISCGEM</td>\n",
              "      <td>ISCGEM</td>\n",
              "      <td>ISCGEM</td>\n",
              "      <td>Automatic</td>\n",
              "      <td>-154667568.0</td>\n",
              "      <td>1</td>\n",
              "    </tr>\n",
              "    <tr>\n",
              "      <th>38</th>\n",
              "      <td>51.487</td>\n",
              "      <td>176.558</td>\n",
              "      <td>Earthquake</td>\n",
              "      <td>30.4</td>\n",
              "      <td>5.6</td>\n",
              "      <td>MW</td>\n",
              "      <td>1.0</td>\n",
              "      <td>ISCGEM</td>\n",
              "      <td>ISCGEM</td>\n",
              "      <td>ISCGEM</td>\n",
              "      <td>Automatic</td>\n",
              "      <td>-154662238.0</td>\n",
              "      <td>1</td>\n",
              "    </tr>\n",
              "    <tr>\n",
              "      <th>39</th>\n",
              "      <td>53.008</td>\n",
              "      <td>-162.008</td>\n",
              "      <td>Earthquake</td>\n",
              "      <td>17.8</td>\n",
              "      <td>6.4</td>\n",
              "      <td>MW</td>\n",
              "      <td>1.0</td>\n",
              "      <td>ISCGEM</td>\n",
              "      <td>ISCGEM</td>\n",
              "      <td>ISCGEM</td>\n",
              "      <td>Automatic</td>\n",
              "      <td>-154649968.0</td>\n",
              "      <td>1</td>\n",
              "    </tr>\n",
              "    <tr>\n",
              "      <th>40</th>\n",
              "      <td>52.184</td>\n",
              "      <td>175.505</td>\n",
              "      <td>Earthquake</td>\n",
              "      <td>27.7</td>\n",
              "      <td>6.2</td>\n",
              "      <td>MW</td>\n",
              "      <td>1.0</td>\n",
              "      <td>ISCGEM</td>\n",
              "      <td>ISCGEM</td>\n",
              "      <td>ISCGEM</td>\n",
              "      <td>Automatic</td>\n",
              "      <td>-154641426.0</td>\n",
              "      <td>1</td>\n",
              "    </tr>\n",
              "    <tr>\n",
              "      <th>41</th>\n",
              "      <td>52.076</td>\n",
              "      <td>172.918</td>\n",
              "      <td>Earthquake</td>\n",
              "      <td>30.1</td>\n",
              "      <td>5.6</td>\n",
              "      <td>MW</td>\n",
              "      <td>1.0</td>\n",
              "      <td>ISCGEM</td>\n",
              "      <td>ISCGEM</td>\n",
              "      <td>ISCGEM</td>\n",
              "      <td>Automatic</td>\n",
              "      <td>-154629915.0</td>\n",
              "      <td>1</td>\n",
              "    </tr>\n",
              "    <tr>\n",
              "      <th>42</th>\n",
              "      <td>51.744</td>\n",
              "      <td>175.213</td>\n",
              "      <td>Earthquake</td>\n",
              "      <td>37.4</td>\n",
              "      <td>5.7</td>\n",
              "      <td>MW</td>\n",
              "      <td>1.0</td>\n",
              "      <td>ISCGEM</td>\n",
              "      <td>ISCGEM</td>\n",
              "      <td>ISCGEM</td>\n",
              "      <td>Automatic</td>\n",
              "      <td>-154611452.0</td>\n",
              "      <td>1</td>\n",
              "    </tr>\n",
              "    <tr>\n",
              "      <th>43</th>\n",
              "      <td>52.057</td>\n",
              "      <td>174.116</td>\n",
              "      <td>Earthquake</td>\n",
              "      <td>17.5</td>\n",
              "      <td>5.7</td>\n",
              "      <td>MW</td>\n",
              "      <td>1.0</td>\n",
              "      <td>ISCGEM</td>\n",
              "      <td>ISCGEM</td>\n",
              "      <td>ISCGEM</td>\n",
              "      <td>Automatic</td>\n",
              "      <td>-154604929.0</td>\n",
              "      <td>1</td>\n",
              "    </tr>\n",
              "    <tr>\n",
              "      <th>44</th>\n",
              "      <td>53.191</td>\n",
              "      <td>-161.859</td>\n",
              "      <td>Earthquake</td>\n",
              "      <td>22.5</td>\n",
              "      <td>6.3</td>\n",
              "      <td>MW</td>\n",
              "      <td>1.0</td>\n",
              "      <td>ISCGEM</td>\n",
              "      <td>ISCGEM</td>\n",
              "      <td>ISCGEM</td>\n",
              "      <td>Automatic</td>\n",
              "      <td>-154595371.0</td>\n",
              "      <td>1</td>\n",
              "    </tr>\n",
              "    <tr>\n",
              "      <th>45</th>\n",
              "      <td>51.447</td>\n",
              "      <td>176.469</td>\n",
              "      <td>Earthquake</td>\n",
              "      <td>25.2</td>\n",
              "      <td>5.8</td>\n",
              "      <td>MW</td>\n",
              "      <td>1.0</td>\n",
              "      <td>ISCGEM</td>\n",
              "      <td>ISCGEM</td>\n",
              "      <td>ISCGEM</td>\n",
              "      <td>Automatic</td>\n",
              "      <td>-154590570.0</td>\n",
              "      <td>1</td>\n",
              "    </tr>\n",
              "    <tr>\n",
              "      <th>46</th>\n",
              "      <td>51.258</td>\n",
              "      <td>173.393</td>\n",
              "      <td>Earthquake</td>\n",
              "      <td>17.7</td>\n",
              "      <td>5.7</td>\n",
              "      <td>MW</td>\n",
              "      <td>1.0</td>\n",
              "      <td>ISCGEM</td>\n",
              "      <td>ISCGEM</td>\n",
              "      <td>ISCGEM</td>\n",
              "      <td>Automatic</td>\n",
              "      <td>-154561372.0</td>\n",
              "      <td>1</td>\n",
              "    </tr>\n",
              "    <tr>\n",
              "      <th>47</th>\n",
              "      <td>52.031</td>\n",
              "      <td>175.411</td>\n",
              "      <td>Earthquake</td>\n",
              "      <td>25.0</td>\n",
              "      <td>5.7</td>\n",
              "      <td>MW</td>\n",
              "      <td>1.0</td>\n",
              "      <td>ISCGEM</td>\n",
              "      <td>ISCGEM</td>\n",
              "      <td>ISCGEM</td>\n",
              "      <td>Automatic</td>\n",
              "      <td>-154554518.0</td>\n",
              "      <td>1</td>\n",
              "    </tr>\n",
              "    <tr>\n",
              "      <th>48</th>\n",
              "      <td>51.294</td>\n",
              "      <td>179.092</td>\n",
              "      <td>Earthquake</td>\n",
              "      <td>25.0</td>\n",
              "      <td>5.8</td>\n",
              "      <td>MW</td>\n",
              "      <td>1.0</td>\n",
              "      <td>ISCGEM</td>\n",
              "      <td>ISCGEM</td>\n",
              "      <td>ISCGEM</td>\n",
              "      <td>Automatic</td>\n",
              "      <td>-154535648.0</td>\n",
              "      <td>1</td>\n",
              "    </tr>\n",
              "    <tr>\n",
              "      <th>49</th>\n",
              "      <td>55.223</td>\n",
              "      <td>165.426</td>\n",
              "      <td>Earthquake</td>\n",
              "      <td>32.5</td>\n",
              "      <td>5.9</td>\n",
              "      <td>MW</td>\n",
              "      <td>1.0</td>\n",
              "      <td>ISCGEM</td>\n",
              "      <td>ISCGEM</td>\n",
              "      <td>ISCGEM</td>\n",
              "      <td>Automatic</td>\n",
              "      <td>-154426388.0</td>\n",
              "      <td>1</td>\n",
              "    </tr>\n",
              "  </tbody>\n",
              "</table>\n",
              "</div>"
            ],
            "text/plain": [
              "    Latitude  Longitude        Type  Depth  Magnitude Magnitude Type  \\\n",
              "0     19.246    145.616  Earthquake  131.6        6.0             MW   \n",
              "1      1.863    127.352  Earthquake   80.0        5.8             MW   \n",
              "2    -20.579   -173.972  Earthquake   20.0        6.2             MW   \n",
              "3    -59.076    -23.557  Earthquake   15.0        5.8             MW   \n",
              "4     11.938    126.427  Earthquake   15.0        5.8             MW   \n",
              "5    -13.405    166.629  Earthquake   35.0        6.7             MW   \n",
              "6     27.357     87.867  Earthquake   20.0        5.9             MW   \n",
              "7    -13.309    166.212  Earthquake   35.0        6.0             MW   \n",
              "8    -56.452    -27.043  Earthquake   95.0        6.0             MW   \n",
              "9    -24.563    178.487  Earthquake  565.0        5.8             MW   \n",
              "10    -6.807    108.988  Earthquake  227.9        5.9             MW   \n",
              "11    -2.608    125.952  Earthquake   20.0        8.2             MW   \n",
              "12    54.636    161.703  Earthquake   55.0        5.5             MW   \n",
              "13   -18.697   -177.864  Earthquake  482.9        5.6             MW   \n",
              "14    37.523     73.251  Earthquake   15.0        6.0             MW   \n",
              "15   -51.840    139.741  Earthquake   10.0        6.1             MW   \n",
              "16    51.251    178.715  Earthquake   30.3        8.7             MW   \n",
              "17    51.639    175.055  Earthquake   30.0        6.0             MW   \n",
              "18    52.528    172.007  Earthquake   25.0        5.7             MW   \n",
              "19    51.626    175.746  Earthquake   25.0        5.8             MW   \n",
              "20    51.037    177.848  Earthquake   25.0        5.9             MW   \n",
              "21    51.730    173.975  Earthquake   20.0        5.9             MW   \n",
              "22    51.775    173.058  Earthquake   10.0        5.7             MW   \n",
              "23    52.611    172.588  Earthquake   24.0        5.7             MW   \n",
              "24    51.831    174.368  Earthquake   31.8        5.7             MW   \n",
              "25    51.948    173.969  Earthquake   20.0        5.6             MW   \n",
              "26    51.443    179.605  Earthquake   30.0        7.3             MW   \n",
              "27    52.773    171.974  Earthquake   30.0        6.5             MW   \n",
              "28    51.772    174.696  Earthquake   20.0        5.6             MW   \n",
              "29    52.975    171.091  Earthquake   25.0        6.4             MW   \n",
              "30    52.990    170.874  Earthquake   25.0        5.8             MW   \n",
              "31    51.536    175.045  Earthquake   25.0        5.8             MW   \n",
              "32    13.245    -44.922  Earthquake   10.0        5.8             MW   \n",
              "33    51.812    174.206  Earthquake   10.0        5.7             MW   \n",
              "34    51.762    174.841  Earthquake   25.0        5.7             MW   \n",
              "35    52.438    174.321  Earthquake   39.5        6.3             MW   \n",
              "36    51.946    173.840  Earthquake   30.0        5.7             MW   \n",
              "37    51.738    174.566  Earthquake   20.0        6.0             MW   \n",
              "38    51.487    176.558  Earthquake   30.4        5.6             MW   \n",
              "39    53.008   -162.008  Earthquake   17.8        6.4             MW   \n",
              "40    52.184    175.505  Earthquake   27.7        6.2             MW   \n",
              "41    52.076    172.918  Earthquake   30.1        5.6             MW   \n",
              "42    51.744    175.213  Earthquake   37.4        5.7             MW   \n",
              "43    52.057    174.116  Earthquake   17.5        5.7             MW   \n",
              "44    53.191   -161.859  Earthquake   22.5        6.3             MW   \n",
              "45    51.447    176.469  Earthquake   25.2        5.8             MW   \n",
              "46    51.258    173.393  Earthquake   17.7        5.7             MW   \n",
              "47    52.031    175.411  Earthquake   25.0        5.7             MW   \n",
              "48    51.294    179.092  Earthquake   25.0        5.8             MW   \n",
              "49    55.223    165.426  Earthquake   32.5        5.9             MW   \n",
              "\n",
              "    Root Mean Square     Source Location Source Magnitude Source     Status  \\\n",
              "0                1.0     ISCGEM          ISCGEM           ISCGEM  Automatic   \n",
              "1                1.0     ISCGEM          ISCGEM           ISCGEM  Automatic   \n",
              "2                1.0     ISCGEM          ISCGEM           ISCGEM  Automatic   \n",
              "3                1.0     ISCGEM          ISCGEM           ISCGEM  Automatic   \n",
              "4                1.0     ISCGEM          ISCGEM           ISCGEM  Automatic   \n",
              "5                1.0     ISCGEM          ISCGEM           ISCGEM  Automatic   \n",
              "6                1.0     ISCGEM          ISCGEM           ISCGEM  Automatic   \n",
              "7                1.0     ISCGEM          ISCGEM           ISCGEM  Automatic   \n",
              "8                1.0  ISCGEMSUP          ISCGEM           ISCGEM  Automatic   \n",
              "9                1.0     ISCGEM          ISCGEM           ISCGEM  Automatic   \n",
              "10               1.0     ISCGEM          ISCGEM           ISCGEM  Automatic   \n",
              "11               1.0     ISCGEM          ISCGEM           ISCGEM  Automatic   \n",
              "12               1.0     ISCGEM          ISCGEM           ISCGEM  Automatic   \n",
              "13               1.0     ISCGEM          ISCGEM           ISCGEM  Automatic   \n",
              "14               1.0     ISCGEM          ISCGEM           ISCGEM  Automatic   \n",
              "15               1.0     ISCGEM          ISCGEM           ISCGEM  Automatic   \n",
              "16               1.0   OFFICIAL          ISCGEM         OFFICIAL  Automatic   \n",
              "17               1.0  ISCGEMSUP          ISCGEM           ISCGEM  Automatic   \n",
              "18               1.0     ISCGEM          ISCGEM           ISCGEM  Automatic   \n",
              "19               1.0     ISCGEM          ISCGEM           ISCGEM  Automatic   \n",
              "20               1.0  ISCGEMSUP          ISCGEM           ISCGEM  Automatic   \n",
              "21               1.0     ISCGEM          ISCGEM           ISCGEM  Automatic   \n",
              "22               1.0     ISCGEM          ISCGEM           ISCGEM  Automatic   \n",
              "23               1.0  ISCGEMSUP          ISCGEM           ISCGEM  Automatic   \n",
              "24               1.0     ISCGEM          ISCGEM           ISCGEM  Automatic   \n",
              "25               1.0     ISCGEM          ISCGEM           ISCGEM  Automatic   \n",
              "26               1.0     ISCGEM          ISCGEM           ISCGEM  Automatic   \n",
              "27               1.0     ISCGEM          ISCGEM           ISCGEM  Automatic   \n",
              "28               1.0     ISCGEM          ISCGEM           ISCGEM  Automatic   \n",
              "29               1.0     ISCGEM          ISCGEM           ISCGEM  Automatic   \n",
              "30               1.0     ISCGEM          ISCGEM           ISCGEM  Automatic   \n",
              "31               1.0     ISCGEM          ISCGEM           ISCGEM  Automatic   \n",
              "32               1.0     ISCGEM          ISCGEM           ISCGEM  Automatic   \n",
              "33               1.0     ISCGEM          ISCGEM           ISCGEM  Automatic   \n",
              "34               1.0     ISCGEM          ISCGEM           ISCGEM  Automatic   \n",
              "35               1.0     ISCGEM          ISCGEM           ISCGEM  Automatic   \n",
              "36               1.0     ISCGEM          ISCGEM           ISCGEM  Automatic   \n",
              "37               1.0     ISCGEM          ISCGEM           ISCGEM  Automatic   \n",
              "38               1.0     ISCGEM          ISCGEM           ISCGEM  Automatic   \n",
              "39               1.0     ISCGEM          ISCGEM           ISCGEM  Automatic   \n",
              "40               1.0     ISCGEM          ISCGEM           ISCGEM  Automatic   \n",
              "41               1.0     ISCGEM          ISCGEM           ISCGEM  Automatic   \n",
              "42               1.0     ISCGEM          ISCGEM           ISCGEM  Automatic   \n",
              "43               1.0     ISCGEM          ISCGEM           ISCGEM  Automatic   \n",
              "44               1.0     ISCGEM          ISCGEM           ISCGEM  Automatic   \n",
              "45               1.0     ISCGEM          ISCGEM           ISCGEM  Automatic   \n",
              "46               1.0     ISCGEM          ISCGEM           ISCGEM  Automatic   \n",
              "47               1.0     ISCGEM          ISCGEM           ISCGEM  Automatic   \n",
              "48               1.0     ISCGEM          ISCGEM           ISCGEM  Automatic   \n",
              "49               1.0     ISCGEM          ISCGEM           ISCGEM  Automatic   \n",
              "\n",
              "      TimeStamp  Root Mean Square_NaN  \n",
              "0  -157630542.0                     1  \n",
              "1  -157465811.0                     1  \n",
              "2  -157355642.0                     1  \n",
              "3  -157093817.0                     1  \n",
              "4  -157026430.0                     1  \n",
              "5  -156939808.0                     1  \n",
              "6  -156767255.0                     1  \n",
              "7  -156472938.0                     1  \n",
              "8  -156428843.0                     1  \n",
              "9  -156345403.0                     1  \n",
              "10 -156308539.0                     1  \n",
              "11 -155778523.0                     1  \n",
              "12 -155312670.0                     1  \n",
              "13 -155068374.0                     1  \n",
              "14 -154944189.0                     1  \n",
              "15 -154816500.0                     1  \n",
              "16 -154810718.0                     1  \n",
              "17 -154806901.0                     1  \n",
              "18 -154804974.0                     1  \n",
              "19 -154804828.0                     1  \n",
              "20 -154802917.0                     1  \n",
              "21 -154802701.0                     1  \n",
              "22 -154802208.0                     1  \n",
              "23 -154800977.0                     1  \n",
              "24 -154799623.0                     1  \n",
              "25 -154797979.0                     1  \n",
              "26 -154797556.0                     1  \n",
              "27 -154785232.0                     1  \n",
              "28 -154782541.0                     1  \n",
              "29 -154777291.0                     1  \n",
              "30 -154771715.0                     1  \n",
              "31 -154761948.0                     1  \n",
              "32 -154757756.0                     1  \n",
              "33 -154747797.0                     1  \n",
              "34 -154718410.0                     1  \n",
              "35 -154708069.0                     1  \n",
              "36 -154693273.0                     1  \n",
              "37 -154667568.0                     1  \n",
              "38 -154662238.0                     1  \n",
              "39 -154649968.0                     1  \n",
              "40 -154641426.0                     1  \n",
              "41 -154629915.0                     1  \n",
              "42 -154611452.0                     1  \n",
              "43 -154604929.0                     1  \n",
              "44 -154595371.0                     1  \n",
              "45 -154590570.0                     1  \n",
              "46 -154561372.0                     1  \n",
              "47 -154554518.0                     1  \n",
              "48 -154535648.0                     1  \n",
              "49 -154426388.0                     1  "
            ]
          },
          "metadata": {
            "tags": []
          },
          "execution_count": 23
        }
      ]
    },
    {
      "cell_type": "code",
      "metadata": {
        "id": "NYJxm1Gjl5R8",
        "colab_type": "code",
        "colab": {
          "base_uri": "https://localhost:8080/",
          "height": 219
        },
        "outputId": "22e5dd58-cd95-44d2-c6b5-f3c5cb7df063"
      },
      "source": [
        "categorical_features=[]\n",
        "for feature in data.columns:\n",
        "    if data[feature].dtype=='O' and feature not in ('TimeStamp'):\n",
        "        categorical_features.append(feature)\n",
        "\n",
        "data[categorical_features].head()"
      ],
      "execution_count": 24,
      "outputs": [
        {
          "output_type": "execute_result",
          "data": {
            "text/html": [
              "<div>\n",
              "<style scoped>\n",
              "    .dataframe tbody tr th:only-of-type {\n",
              "        vertical-align: middle;\n",
              "    }\n",
              "\n",
              "    .dataframe tbody tr th {\n",
              "        vertical-align: top;\n",
              "    }\n",
              "\n",
              "    .dataframe thead th {\n",
              "        text-align: right;\n",
              "    }\n",
              "</style>\n",
              "<table border=\"1\" class=\"dataframe\">\n",
              "  <thead>\n",
              "    <tr style=\"text-align: right;\">\n",
              "      <th></th>\n",
              "      <th>Type</th>\n",
              "      <th>Magnitude Type</th>\n",
              "      <th>Source</th>\n",
              "      <th>Location Source</th>\n",
              "      <th>Magnitude Source</th>\n",
              "      <th>Status</th>\n",
              "    </tr>\n",
              "  </thead>\n",
              "  <tbody>\n",
              "    <tr>\n",
              "      <th>0</th>\n",
              "      <td>Earthquake</td>\n",
              "      <td>MW</td>\n",
              "      <td>ISCGEM</td>\n",
              "      <td>ISCGEM</td>\n",
              "      <td>ISCGEM</td>\n",
              "      <td>Automatic</td>\n",
              "    </tr>\n",
              "    <tr>\n",
              "      <th>1</th>\n",
              "      <td>Earthquake</td>\n",
              "      <td>MW</td>\n",
              "      <td>ISCGEM</td>\n",
              "      <td>ISCGEM</td>\n",
              "      <td>ISCGEM</td>\n",
              "      <td>Automatic</td>\n",
              "    </tr>\n",
              "    <tr>\n",
              "      <th>2</th>\n",
              "      <td>Earthquake</td>\n",
              "      <td>MW</td>\n",
              "      <td>ISCGEM</td>\n",
              "      <td>ISCGEM</td>\n",
              "      <td>ISCGEM</td>\n",
              "      <td>Automatic</td>\n",
              "    </tr>\n",
              "    <tr>\n",
              "      <th>3</th>\n",
              "      <td>Earthquake</td>\n",
              "      <td>MW</td>\n",
              "      <td>ISCGEM</td>\n",
              "      <td>ISCGEM</td>\n",
              "      <td>ISCGEM</td>\n",
              "      <td>Automatic</td>\n",
              "    </tr>\n",
              "    <tr>\n",
              "      <th>4</th>\n",
              "      <td>Earthquake</td>\n",
              "      <td>MW</td>\n",
              "      <td>ISCGEM</td>\n",
              "      <td>ISCGEM</td>\n",
              "      <td>ISCGEM</td>\n",
              "      <td>Automatic</td>\n",
              "    </tr>\n",
              "  </tbody>\n",
              "</table>\n",
              "</div>"
            ],
            "text/plain": [
              "         Type Magnitude Type  Source Location Source Magnitude Source  \\\n",
              "0  Earthquake             MW  ISCGEM          ISCGEM           ISCGEM   \n",
              "1  Earthquake             MW  ISCGEM          ISCGEM           ISCGEM   \n",
              "2  Earthquake             MW  ISCGEM          ISCGEM           ISCGEM   \n",
              "3  Earthquake             MW  ISCGEM          ISCGEM           ISCGEM   \n",
              "4  Earthquake             MW  ISCGEM          ISCGEM           ISCGEM   \n",
              "\n",
              "      Status  \n",
              "0  Automatic  \n",
              "1  Automatic  \n",
              "2  Automatic  \n",
              "3  Automatic  \n",
              "4  Automatic  "
            ]
          },
          "metadata": {
            "tags": []
          },
          "execution_count": 24
        }
      ]
    },
    {
      "cell_type": "code",
      "metadata": {
        "id": "KsT8s52HzwVw",
        "colab_type": "code",
        "colab": {
          "base_uri": "https://localhost:8080/",
          "height": 202
        },
        "outputId": "ed934f31-0aac-4a81-e30a-189bfb22271a"
      },
      "source": [
        "## Perform Label Encoding to all categorical features\n",
        "from sklearn.preprocessing import LabelEncoder\n",
        "encoder=LabelEncoder()\n",
        "\n",
        "for feature in categorical_features:\n",
        "    data[feature]=encoder.fit_transform(data[feature])\n",
        "\n",
        "data[categorical_features].head()"
      ],
      "execution_count": 25,
      "outputs": [
        {
          "output_type": "execute_result",
          "data": {
            "text/html": [
              "<div>\n",
              "<style scoped>\n",
              "    .dataframe tbody tr th:only-of-type {\n",
              "        vertical-align: middle;\n",
              "    }\n",
              "\n",
              "    .dataframe tbody tr th {\n",
              "        vertical-align: top;\n",
              "    }\n",
              "\n",
              "    .dataframe thead th {\n",
              "        text-align: right;\n",
              "    }\n",
              "</style>\n",
              "<table border=\"1\" class=\"dataframe\">\n",
              "  <thead>\n",
              "    <tr style=\"text-align: right;\">\n",
              "      <th></th>\n",
              "      <th>Type</th>\n",
              "      <th>Magnitude Type</th>\n",
              "      <th>Source</th>\n",
              "      <th>Location Source</th>\n",
              "      <th>Magnitude Source</th>\n",
              "      <th>Status</th>\n",
              "    </tr>\n",
              "  </thead>\n",
              "  <tbody>\n",
              "    <tr>\n",
              "      <th>0</th>\n",
              "      <td>0</td>\n",
              "      <td>5</td>\n",
              "      <td>4</td>\n",
              "      <td>20</td>\n",
              "      <td>11</td>\n",
              "      <td>0</td>\n",
              "    </tr>\n",
              "    <tr>\n",
              "      <th>1</th>\n",
              "      <td>0</td>\n",
              "      <td>5</td>\n",
              "      <td>4</td>\n",
              "      <td>20</td>\n",
              "      <td>11</td>\n",
              "      <td>0</td>\n",
              "    </tr>\n",
              "    <tr>\n",
              "      <th>2</th>\n",
              "      <td>0</td>\n",
              "      <td>5</td>\n",
              "      <td>4</td>\n",
              "      <td>20</td>\n",
              "      <td>11</td>\n",
              "      <td>0</td>\n",
              "    </tr>\n",
              "    <tr>\n",
              "      <th>3</th>\n",
              "      <td>0</td>\n",
              "      <td>5</td>\n",
              "      <td>4</td>\n",
              "      <td>20</td>\n",
              "      <td>11</td>\n",
              "      <td>0</td>\n",
              "    </tr>\n",
              "    <tr>\n",
              "      <th>4</th>\n",
              "      <td>0</td>\n",
              "      <td>5</td>\n",
              "      <td>4</td>\n",
              "      <td>20</td>\n",
              "      <td>11</td>\n",
              "      <td>0</td>\n",
              "    </tr>\n",
              "  </tbody>\n",
              "</table>\n",
              "</div>"
            ],
            "text/plain": [
              "   Type  Magnitude Type  Source  Location Source  Magnitude Source  Status\n",
              "0     0               5       4               20                11       0\n",
              "1     0               5       4               20                11       0\n",
              "2     0               5       4               20                11       0\n",
              "3     0               5       4               20                11       0\n",
              "4     0               5       4               20                11       0"
            ]
          },
          "metadata": {
            "tags": []
          },
          "execution_count": 25
        }
      ]
    },
    {
      "cell_type": "code",
      "metadata": {
        "id": "XJPchwbj42Jg",
        "colab_type": "code",
        "colab": {
          "base_uri": "https://localhost:8080/",
          "height": 257
        },
        "outputId": "21d29527-b9d1-4dff-f796-4e9e8e7ef3b5"
      },
      "source": [
        "data.head()"
      ],
      "execution_count": 26,
      "outputs": [
        {
          "output_type": "execute_result",
          "data": {
            "text/html": [
              "<div>\n",
              "<style scoped>\n",
              "    .dataframe tbody tr th:only-of-type {\n",
              "        vertical-align: middle;\n",
              "    }\n",
              "\n",
              "    .dataframe tbody tr th {\n",
              "        vertical-align: top;\n",
              "    }\n",
              "\n",
              "    .dataframe thead th {\n",
              "        text-align: right;\n",
              "    }\n",
              "</style>\n",
              "<table border=\"1\" class=\"dataframe\">\n",
              "  <thead>\n",
              "    <tr style=\"text-align: right;\">\n",
              "      <th></th>\n",
              "      <th>Latitude</th>\n",
              "      <th>Longitude</th>\n",
              "      <th>Type</th>\n",
              "      <th>Depth</th>\n",
              "      <th>Magnitude</th>\n",
              "      <th>Magnitude Type</th>\n",
              "      <th>Root Mean Square</th>\n",
              "      <th>Source</th>\n",
              "      <th>Location Source</th>\n",
              "      <th>Magnitude Source</th>\n",
              "      <th>Status</th>\n",
              "      <th>TimeStamp</th>\n",
              "      <th>Root Mean Square_NaN</th>\n",
              "    </tr>\n",
              "  </thead>\n",
              "  <tbody>\n",
              "    <tr>\n",
              "      <th>0</th>\n",
              "      <td>19.246</td>\n",
              "      <td>145.616</td>\n",
              "      <td>0</td>\n",
              "      <td>131.6</td>\n",
              "      <td>6.0</td>\n",
              "      <td>5</td>\n",
              "      <td>1.0</td>\n",
              "      <td>4</td>\n",
              "      <td>20</td>\n",
              "      <td>11</td>\n",
              "      <td>0</td>\n",
              "      <td>-157630542.0</td>\n",
              "      <td>1</td>\n",
              "    </tr>\n",
              "    <tr>\n",
              "      <th>1</th>\n",
              "      <td>1.863</td>\n",
              "      <td>127.352</td>\n",
              "      <td>0</td>\n",
              "      <td>80.0</td>\n",
              "      <td>5.8</td>\n",
              "      <td>5</td>\n",
              "      <td>1.0</td>\n",
              "      <td>4</td>\n",
              "      <td>20</td>\n",
              "      <td>11</td>\n",
              "      <td>0</td>\n",
              "      <td>-157465811.0</td>\n",
              "      <td>1</td>\n",
              "    </tr>\n",
              "    <tr>\n",
              "      <th>2</th>\n",
              "      <td>-20.579</td>\n",
              "      <td>-173.972</td>\n",
              "      <td>0</td>\n",
              "      <td>20.0</td>\n",
              "      <td>6.2</td>\n",
              "      <td>5</td>\n",
              "      <td>1.0</td>\n",
              "      <td>4</td>\n",
              "      <td>20</td>\n",
              "      <td>11</td>\n",
              "      <td>0</td>\n",
              "      <td>-157355642.0</td>\n",
              "      <td>1</td>\n",
              "    </tr>\n",
              "    <tr>\n",
              "      <th>3</th>\n",
              "      <td>-59.076</td>\n",
              "      <td>-23.557</td>\n",
              "      <td>0</td>\n",
              "      <td>15.0</td>\n",
              "      <td>5.8</td>\n",
              "      <td>5</td>\n",
              "      <td>1.0</td>\n",
              "      <td>4</td>\n",
              "      <td>20</td>\n",
              "      <td>11</td>\n",
              "      <td>0</td>\n",
              "      <td>-157093817.0</td>\n",
              "      <td>1</td>\n",
              "    </tr>\n",
              "    <tr>\n",
              "      <th>4</th>\n",
              "      <td>11.938</td>\n",
              "      <td>126.427</td>\n",
              "      <td>0</td>\n",
              "      <td>15.0</td>\n",
              "      <td>5.8</td>\n",
              "      <td>5</td>\n",
              "      <td>1.0</td>\n",
              "      <td>4</td>\n",
              "      <td>20</td>\n",
              "      <td>11</td>\n",
              "      <td>0</td>\n",
              "      <td>-157026430.0</td>\n",
              "      <td>1</td>\n",
              "    </tr>\n",
              "  </tbody>\n",
              "</table>\n",
              "</div>"
            ],
            "text/plain": [
              "   Latitude  Longitude  Type  Depth  Magnitude  Magnitude Type  \\\n",
              "0    19.246    145.616     0  131.6        6.0               5   \n",
              "1     1.863    127.352     0   80.0        5.8               5   \n",
              "2   -20.579   -173.972     0   20.0        6.2               5   \n",
              "3   -59.076    -23.557     0   15.0        5.8               5   \n",
              "4    11.938    126.427     0   15.0        5.8               5   \n",
              "\n",
              "   Root Mean Square  Source  Location Source  Magnitude Source  Status  \\\n",
              "0               1.0       4               20                11       0   \n",
              "1               1.0       4               20                11       0   \n",
              "2               1.0       4               20                11       0   \n",
              "3               1.0       4               20                11       0   \n",
              "4               1.0       4               20                11       0   \n",
              "\n",
              "     TimeStamp  Root Mean Square_NaN  \n",
              "0 -157630542.0                     1  \n",
              "1 -157465811.0                     1  \n",
              "2 -157355642.0                     1  \n",
              "3 -157093817.0                     1  \n",
              "4 -157026430.0                     1  "
            ]
          },
          "metadata": {
            "tags": []
          },
          "execution_count": 26
        }
      ]
    },
    {
      "cell_type": "markdown",
      "metadata": {
        "id": "939KCRwv5anO",
        "colab_type": "text"
      },
      "source": [
        "Feature Scaling"
      ]
    },
    {
      "cell_type": "code",
      "metadata": {
        "id": "OMGJqEdN5Nhg",
        "colab_type": "code",
        "colab": {
          "base_uri": "https://localhost:8080/",
          "height": 35
        },
        "outputId": "18b3a696-1a84-4b3c-c908-761895e9ce10"
      },
      "source": [
        "## We would be perform Standard Scaler to convert using Standard Normal Distribution\n",
        "\n",
        "from sklearn.preprocessing import StandardScaler\n",
        "feature_scaling = [feature for feature in data.columns if feature not in ['Magnitude','Depth']]\n",
        "scaler=StandardScaler()\n",
        "scaler.fit(data[feature_scaling])"
      ],
      "execution_count": 27,
      "outputs": [
        {
          "output_type": "execute_result",
          "data": {
            "text/plain": [
              "StandardScaler(copy=True, with_mean=True, with_std=True)"
            ]
          },
          "metadata": {
            "tags": []
          },
          "execution_count": 27
        }
      ]
    },
    {
      "cell_type": "code",
      "metadata": {
        "id": "JVbTrsYI6IiE",
        "colab_type": "code",
        "colab": {
          "base_uri": "https://localhost:8080/",
          "height": 257
        },
        "outputId": "e331bbb0-c6f5-4aa0-bc1f-d0692731c2d8"
      },
      "source": [
        "## Creating new dataset as transform of Standard Scaler would return a multi-dimensional array\n",
        "\n",
        "data=pd.concat([data[['Magnitude','Depth']].reset_index(drop=True),pd.DataFrame(scaler.transform(data[feature_scaling]),columns=feature_scaling)],axis=1)\n",
        "data.head()"
      ],
      "execution_count": 28,
      "outputs": [
        {
          "output_type": "execute_result",
          "data": {
            "text/html": [
              "<div>\n",
              "<style scoped>\n",
              "    .dataframe tbody tr th:only-of-type {\n",
              "        vertical-align: middle;\n",
              "    }\n",
              "\n",
              "    .dataframe tbody tr th {\n",
              "        vertical-align: top;\n",
              "    }\n",
              "\n",
              "    .dataframe thead th {\n",
              "        text-align: right;\n",
              "    }\n",
              "</style>\n",
              "<table border=\"1\" class=\"dataframe\">\n",
              "  <thead>\n",
              "    <tr style=\"text-align: right;\">\n",
              "      <th></th>\n",
              "      <th>Magnitude</th>\n",
              "      <th>Depth</th>\n",
              "      <th>Latitude</th>\n",
              "      <th>Longitude</th>\n",
              "      <th>Type</th>\n",
              "      <th>Magnitude Type</th>\n",
              "      <th>Root Mean Square</th>\n",
              "      <th>Source</th>\n",
              "      <th>Location Source</th>\n",
              "      <th>Magnitude Source</th>\n",
              "      <th>Status</th>\n",
              "      <th>TimeStamp</th>\n",
              "      <th>Root Mean Square_NaN</th>\n",
              "    </tr>\n",
              "  </thead>\n",
              "  <tbody>\n",
              "    <tr>\n",
              "      <th>0</th>\n",
              "      <td>6.0</td>\n",
              "      <td>131.6</td>\n",
              "      <td>0.583377</td>\n",
              "      <td>0.844368</td>\n",
              "      <td>-0.087714</td>\n",
              "      <td>-0.018712</td>\n",
              "      <td>-0.103839</td>\n",
              "      <td>-2.72115</td>\n",
              "      <td>-2.503872</td>\n",
              "      <td>-0.697041</td>\n",
              "      <td>-2.805627</td>\n",
              "      <td>-1.949685</td>\n",
              "      <td>1.692148</td>\n",
              "    </tr>\n",
              "    <tr>\n",
              "      <th>1</th>\n",
              "      <td>5.8</td>\n",
              "      <td>80.0</td>\n",
              "      <td>0.006109</td>\n",
              "      <td>0.698849</td>\n",
              "      <td>-0.087714</td>\n",
              "      <td>-0.018712</td>\n",
              "      <td>-0.103839</td>\n",
              "      <td>-2.72115</td>\n",
              "      <td>-2.503872</td>\n",
              "      <td>-0.697041</td>\n",
              "      <td>-2.805627</td>\n",
              "      <td>-1.949323</td>\n",
              "      <td>1.692148</td>\n",
              "    </tr>\n",
              "    <tr>\n",
              "      <th>2</th>\n",
              "      <td>6.2</td>\n",
              "      <td>20.0</td>\n",
              "      <td>-0.739162</td>\n",
              "      <td>-1.701962</td>\n",
              "      <td>-0.087714</td>\n",
              "      <td>-0.018712</td>\n",
              "      <td>-0.103839</td>\n",
              "      <td>-2.72115</td>\n",
              "      <td>-2.503872</td>\n",
              "      <td>-0.697041</td>\n",
              "      <td>-2.805627</td>\n",
              "      <td>-1.949081</td>\n",
              "      <td>1.692148</td>\n",
              "    </tr>\n",
              "    <tr>\n",
              "      <th>3</th>\n",
              "      <td>5.8</td>\n",
              "      <td>15.0</td>\n",
              "      <td>-2.017599</td>\n",
              "      <td>-0.503524</td>\n",
              "      <td>-0.087714</td>\n",
              "      <td>-0.018712</td>\n",
              "      <td>-0.103839</td>\n",
              "      <td>-2.72115</td>\n",
              "      <td>-2.503872</td>\n",
              "      <td>-0.697041</td>\n",
              "      <td>-2.805627</td>\n",
              "      <td>-1.948506</td>\n",
              "      <td>1.692148</td>\n",
              "    </tr>\n",
              "    <tr>\n",
              "      <th>4</th>\n",
              "      <td>5.8</td>\n",
              "      <td>15.0</td>\n",
              "      <td>0.340688</td>\n",
              "      <td>0.691479</td>\n",
              "      <td>-0.087714</td>\n",
              "      <td>-0.018712</td>\n",
              "      <td>-0.103839</td>\n",
              "      <td>-2.72115</td>\n",
              "      <td>-2.503872</td>\n",
              "      <td>-0.697041</td>\n",
              "      <td>-2.805627</td>\n",
              "      <td>-1.948358</td>\n",
              "      <td>1.692148</td>\n",
              "    </tr>\n",
              "  </tbody>\n",
              "</table>\n",
              "</div>"
            ],
            "text/plain": [
              "   Magnitude  Depth  Latitude  Longitude      Type  Magnitude Type  \\\n",
              "0        6.0  131.6  0.583377   0.844368 -0.087714       -0.018712   \n",
              "1        5.8   80.0  0.006109   0.698849 -0.087714       -0.018712   \n",
              "2        6.2   20.0 -0.739162  -1.701962 -0.087714       -0.018712   \n",
              "3        5.8   15.0 -2.017599  -0.503524 -0.087714       -0.018712   \n",
              "4        5.8   15.0  0.340688   0.691479 -0.087714       -0.018712   \n",
              "\n",
              "   Root Mean Square   Source  Location Source  Magnitude Source    Status  \\\n",
              "0         -0.103839 -2.72115        -2.503872         -0.697041 -2.805627   \n",
              "1         -0.103839 -2.72115        -2.503872         -0.697041 -2.805627   \n",
              "2         -0.103839 -2.72115        -2.503872         -0.697041 -2.805627   \n",
              "3         -0.103839 -2.72115        -2.503872         -0.697041 -2.805627   \n",
              "4         -0.103839 -2.72115        -2.503872         -0.697041 -2.805627   \n",
              "\n",
              "   TimeStamp  Root Mean Square_NaN  \n",
              "0  -1.949685              1.692148  \n",
              "1  -1.949323              1.692148  \n",
              "2  -1.949081              1.692148  \n",
              "3  -1.948506              1.692148  \n",
              "4  -1.948358              1.692148  "
            ]
          },
          "metadata": {
            "tags": []
          },
          "execution_count": 28
        }
      ]
    },
    {
      "cell_type": "code",
      "metadata": {
        "id": "N5DckXjv694Y",
        "colab_type": "code",
        "colab": {}
      },
      "source": [
        "data.to_csv('formatted_data.csv',index=False)"
      ],
      "execution_count": 29,
      "outputs": []
    },
    {
      "cell_type": "markdown",
      "metadata": {
        "id": "eVjvsYnD7SJN",
        "colab_type": "text"
      },
      "source": [
        "# **Feature Selection**"
      ]
    },
    {
      "cell_type": "code",
      "metadata": {
        "id": "kGdcJWuR7JT2",
        "colab_type": "code",
        "colab": {
          "base_uri": "https://localhost:8080/",
          "height": 257
        },
        "outputId": "11edb44d-7687-4d45-fb9c-7bba39dc49d5"
      },
      "source": [
        "from sklearn.linear_model import Lasso\n",
        "from sklearn.feature_selection import SelectFromModel\n",
        "\n",
        "Y=data[['Magnitude','Depth']]\n",
        "data.drop(columns=['Magnitude','Depth'],axis=1,inplace=True)\n",
        "data.head()"
      ],
      "execution_count": 30,
      "outputs": [
        {
          "output_type": "execute_result",
          "data": {
            "text/html": [
              "<div>\n",
              "<style scoped>\n",
              "    .dataframe tbody tr th:only-of-type {\n",
              "        vertical-align: middle;\n",
              "    }\n",
              "\n",
              "    .dataframe tbody tr th {\n",
              "        vertical-align: top;\n",
              "    }\n",
              "\n",
              "    .dataframe thead th {\n",
              "        text-align: right;\n",
              "    }\n",
              "</style>\n",
              "<table border=\"1\" class=\"dataframe\">\n",
              "  <thead>\n",
              "    <tr style=\"text-align: right;\">\n",
              "      <th></th>\n",
              "      <th>Latitude</th>\n",
              "      <th>Longitude</th>\n",
              "      <th>Type</th>\n",
              "      <th>Magnitude Type</th>\n",
              "      <th>Root Mean Square</th>\n",
              "      <th>Source</th>\n",
              "      <th>Location Source</th>\n",
              "      <th>Magnitude Source</th>\n",
              "      <th>Status</th>\n",
              "      <th>TimeStamp</th>\n",
              "      <th>Root Mean Square_NaN</th>\n",
              "    </tr>\n",
              "  </thead>\n",
              "  <tbody>\n",
              "    <tr>\n",
              "      <th>0</th>\n",
              "      <td>0.583377</td>\n",
              "      <td>0.844368</td>\n",
              "      <td>-0.087714</td>\n",
              "      <td>-0.018712</td>\n",
              "      <td>-0.103839</td>\n",
              "      <td>-2.72115</td>\n",
              "      <td>-2.503872</td>\n",
              "      <td>-0.697041</td>\n",
              "      <td>-2.805627</td>\n",
              "      <td>-1.949685</td>\n",
              "      <td>1.692148</td>\n",
              "    </tr>\n",
              "    <tr>\n",
              "      <th>1</th>\n",
              "      <td>0.006109</td>\n",
              "      <td>0.698849</td>\n",
              "      <td>-0.087714</td>\n",
              "      <td>-0.018712</td>\n",
              "      <td>-0.103839</td>\n",
              "      <td>-2.72115</td>\n",
              "      <td>-2.503872</td>\n",
              "      <td>-0.697041</td>\n",
              "      <td>-2.805627</td>\n",
              "      <td>-1.949323</td>\n",
              "      <td>1.692148</td>\n",
              "    </tr>\n",
              "    <tr>\n",
              "      <th>2</th>\n",
              "      <td>-0.739162</td>\n",
              "      <td>-1.701962</td>\n",
              "      <td>-0.087714</td>\n",
              "      <td>-0.018712</td>\n",
              "      <td>-0.103839</td>\n",
              "      <td>-2.72115</td>\n",
              "      <td>-2.503872</td>\n",
              "      <td>-0.697041</td>\n",
              "      <td>-2.805627</td>\n",
              "      <td>-1.949081</td>\n",
              "      <td>1.692148</td>\n",
              "    </tr>\n",
              "    <tr>\n",
              "      <th>3</th>\n",
              "      <td>-2.017599</td>\n",
              "      <td>-0.503524</td>\n",
              "      <td>-0.087714</td>\n",
              "      <td>-0.018712</td>\n",
              "      <td>-0.103839</td>\n",
              "      <td>-2.72115</td>\n",
              "      <td>-2.503872</td>\n",
              "      <td>-0.697041</td>\n",
              "      <td>-2.805627</td>\n",
              "      <td>-1.948506</td>\n",
              "      <td>1.692148</td>\n",
              "    </tr>\n",
              "    <tr>\n",
              "      <th>4</th>\n",
              "      <td>0.340688</td>\n",
              "      <td>0.691479</td>\n",
              "      <td>-0.087714</td>\n",
              "      <td>-0.018712</td>\n",
              "      <td>-0.103839</td>\n",
              "      <td>-2.72115</td>\n",
              "      <td>-2.503872</td>\n",
              "      <td>-0.697041</td>\n",
              "      <td>-2.805627</td>\n",
              "      <td>-1.948358</td>\n",
              "      <td>1.692148</td>\n",
              "    </tr>\n",
              "  </tbody>\n",
              "</table>\n",
              "</div>"
            ],
            "text/plain": [
              "   Latitude  Longitude      Type  Magnitude Type  Root Mean Square   Source  \\\n",
              "0  0.583377   0.844368 -0.087714       -0.018712         -0.103839 -2.72115   \n",
              "1  0.006109   0.698849 -0.087714       -0.018712         -0.103839 -2.72115   \n",
              "2 -0.739162  -1.701962 -0.087714       -0.018712         -0.103839 -2.72115   \n",
              "3 -2.017599  -0.503524 -0.087714       -0.018712         -0.103839 -2.72115   \n",
              "4  0.340688   0.691479 -0.087714       -0.018712         -0.103839 -2.72115   \n",
              "\n",
              "   Location Source  Magnitude Source    Status  TimeStamp  \\\n",
              "0        -2.503872         -0.697041 -2.805627  -1.949685   \n",
              "1        -2.503872         -0.697041 -2.805627  -1.949323   \n",
              "2        -2.503872         -0.697041 -2.805627  -1.949081   \n",
              "3        -2.503872         -0.697041 -2.805627  -1.948506   \n",
              "4        -2.503872         -0.697041 -2.805627  -1.948358   \n",
              "\n",
              "   Root Mean Square_NaN  \n",
              "0              1.692148  \n",
              "1              1.692148  \n",
              "2              1.692148  \n",
              "3              1.692148  \n",
              "4              1.692148  "
            ]
          },
          "metadata": {
            "tags": []
          },
          "execution_count": 30
        }
      ]
    },
    {
      "cell_type": "markdown",
      "metadata": {
        "id": "PUCW0i-p8JnZ",
        "colab_type": "text"
      },
      "source": [
        "Applying feature Selection using Lasso Regression"
      ]
    },
    {
      "cell_type": "code",
      "metadata": {
        "id": "PT7sWeTX70Pa",
        "colab_type": "code",
        "colab": {
          "base_uri": "https://localhost:8080/",
          "height": 121
        },
        "outputId": "8571ba01-0791-4c76-c4ec-48b3dad8d4cf"
      },
      "source": [
        "feature_sel_model=SelectFromModel(Lasso(alpha=0.005,random_state=0))\n",
        "feature_sel_model.fit(data,Y)"
      ],
      "execution_count": 31,
      "outputs": [
        {
          "output_type": "execute_result",
          "data": {
            "text/plain": [
              "SelectFromModel(estimator=Lasso(alpha=0.005, copy_X=True, fit_intercept=True,\n",
              "                                max_iter=1000, normalize=False, positive=False,\n",
              "                                precompute=False, random_state=0,\n",
              "                                selection='cyclic', tol=0.0001,\n",
              "                                warm_start=False),\n",
              "                max_features=None, norm_order=1, prefit=False, threshold=None)"
            ]
          },
          "metadata": {
            "tags": []
          },
          "execution_count": 31
        }
      ]
    },
    {
      "cell_type": "code",
      "metadata": {
        "id": "gTlges608ZcJ",
        "colab_type": "code",
        "colab": {
          "base_uri": "https://localhost:8080/",
          "height": 52
        },
        "outputId": "80a99db7-7552-47f8-c6e6-857c09f0d221"
      },
      "source": [
        "feature_sel_model.get_support()"
      ],
      "execution_count": 32,
      "outputs": [
        {
          "output_type": "execute_result",
          "data": {
            "text/plain": [
              "array([ True,  True,  True,  True,  True,  True,  True,  True,  True,\n",
              "        True,  True])"
            ]
          },
          "metadata": {
            "tags": []
          },
          "execution_count": 32
        }
      ]
    },
    {
      "cell_type": "code",
      "metadata": {
        "id": "I8a8TA6-8jmw",
        "colab_type": "code",
        "colab": {
          "base_uri": "https://localhost:8080/",
          "height": 87
        },
        "outputId": "a6ce7903-a0ba-4b05-af3e-d2bf46f9a963"
      },
      "source": [
        "data.columns"
      ],
      "execution_count": 33,
      "outputs": [
        {
          "output_type": "execute_result",
          "data": {
            "text/plain": [
              "Index(['Latitude', 'Longitude', 'Type', 'Magnitude Type', 'Root Mean Square',\n",
              "       'Source', 'Location Source', 'Magnitude Source', 'Status', 'TimeStamp',\n",
              "       'Root Mean Square_NaN'],\n",
              "      dtype='object')"
            ]
          },
          "metadata": {
            "tags": []
          },
          "execution_count": 33
        }
      ]
    },
    {
      "cell_type": "code",
      "metadata": {
        "id": "BCLUCBQ_-Io8",
        "colab_type": "code",
        "colab": {
          "base_uri": "https://localhost:8080/",
          "height": 35
        },
        "outputId": "5576ebe9-b7ad-4012-b51c-40c22364c958"
      },
      "source": [
        "## Split train and test data\n",
        "from sklearn.model_selection import train_test_split\n",
        "\n",
        "trainX,testX,trainY,testY=train_test_split(data,Y,test_size=0.1,random_state=23)\n",
        "trainX.shape,testX.shape,trainY.shape,testY.shape"
      ],
      "execution_count": 34,
      "outputs": [
        {
          "output_type": "execute_result",
          "data": {
            "text/plain": [
              "((21070, 11), (2342, 11), (21070, 2), (2342, 2))"
            ]
          },
          "metadata": {
            "tags": []
          },
          "execution_count": 34
        }
      ]
    },
    {
      "cell_type": "code",
      "metadata": {
        "id": "0qalF7RSCji_",
        "colab_type": "code",
        "colab": {}
      },
      "source": [
        "## Visualise on an Map for affected areas\n",
        "from mpl_toolkits.basemap import Basemap\n",
        "m = Basemap(projection='mill',llcrnrlat=-80,urcrnrlat=80, llcrnrlon=-180,urcrnrlon=180,lat_ts=20,resolution='c')\n",
        "temp=pd.read_csv('database.csv')\n",
        "longitudes = temp[\"Longitude\"].tolist()\n",
        "latitudes = temp[\"Latitude\"].tolist()\n",
        "x,y = m(longitudes,latitudes)"
      ],
      "execution_count": 40,
      "outputs": []
    },
    {
      "cell_type": "code",
      "metadata": {
        "id": "-tVHVMp_DrgB",
        "colab_type": "code",
        "colab": {
          "base_uri": "https://localhost:8080/",
          "height": 405
        },
        "outputId": "e19931de-4175-4dad-d4a0-910c12f338fc"
      },
      "source": [
        "fig = plt.figure(figsize=(12,10))\n",
        "plt.title(\"All affected areas\")\n",
        "m.plot(x, y, \"o\", markersize = 2, color = 'blue')\n",
        "m.drawcoastlines()\n",
        "m.fillcontinents(color='coral',lake_color='aqua')\n",
        "m.drawmapboundary()\n",
        "m.drawcountries()\n",
        "plt.show()"
      ],
      "execution_count": 41,
      "outputs": [
        {
          "output_type": "display_data",
          "data": {
            "image/png": "[encoded data removed]",
            "text/plain": [
              "<Figure size 864x720 with 1 Axes>"
            ]
          },
          "metadata": {
            "tags": []
          }
        }
      ]
    },
    {
      "cell_type": "markdown",
      "metadata": {
        "id": "VZFiNUnRFOeX",
        "colab_type": "text"
      },
      "source": [
        "Train the model"
      ]
    },
    {
      "cell_type": "code",
      "metadata": {
        "id": "CLRYLW6cEx3T",
        "colab_type": "code",
        "colab": {
          "base_uri": "https://localhost:8080/",
          "height": 139
        },
        "outputId": "76bc07f6-c15c-4209-d8f3-13521c064246"
      },
      "source": [
        "from sklearn.ensemble import RandomForestRegressor\n",
        "\n",
        "Forestmodel=RandomForestRegressor(random_state=42)\n",
        "Forestmodel.fit(trainX[['TimeStamp','Latitude','Longitude']],trainY)\n",
        "Forestmodel.predict(testX[['TimeStamp','Latitude','Longitude']])"
      ],
      "execution_count": 76,
      "outputs": [
        {
          "output_type": "execute_result",
          "data": {
            "text/plain": [
              "array([[  5.974 ,  12.841 ],\n",
              "       [  5.824 ,  63.2044],\n",
              "       [  5.762 , 318.368 ],\n",
              "       ...,\n",
              "       [  5.852 ,  22.1011],\n",
              "       [  5.733 ,  36.553 ],\n",
              "       [  6.175 ,  19.858 ]])"
            ]
          },
          "metadata": {
            "tags": []
          },
          "execution_count": 76
        }
      ]
    },
    {
      "cell_type": "code",
      "metadata": {
        "id": "IoCkV3X5E69j",
        "colab_type": "code",
        "colab": {
          "base_uri": "https://localhost:8080/",
          "height": 89
        },
        "outputId": "5acfec99-d346-4c16-d99e-a7a6e04ae7fc"
      },
      "source": [
        "Forestmodel.score(testX[['TimeStamp','Latitude','Longitude']],testY)"
      ],
      "execution_count": 77,
      "outputs": [
        {
          "output_type": "stream",
          "text": [
            "/usr/local/lib/python3.6/dist-packages/sklearn/base.py:434: FutureWarning: The default value of multioutput (not exposed in score method) will change from 'variance_weighted' to 'uniform_average' in 0.23 to keep consistent with 'metrics.r2_score'. To specify the default value manually and avoid the warning, please either call 'metrics.r2_score' directly or make a custom scorer with 'metrics.make_scorer' (the built-in scorer 'r2' uses multioutput='uniform_average').\n",
            "  \"multioutput='uniform_average').\", FutureWarning)\n"
          ],
          "name": "stderr"
        },
        {
          "output_type": "execute_result",
          "data": {
            "text/plain": [
              "0.834208466964155"
            ]
          },
          "metadata": {
            "tags": []
          },
          "execution_count": 77
        }
      ]
    },
    {
      "cell_type": "code",
      "metadata": {
        "id": "JPVbJ5TyPBQY",
        "colab_type": "code",
        "colab": {}
      },
      "source": [
        "## Save the model\n",
        "import pickle\n",
        "with open('trainedModel.mdl','wb') as f:\n",
        "    pickle.dump(Forestmodel,f)"
      ],
      "execution_count": 83,
      "outputs": []
    },
    {
      "cell_type": "code",
      "metadata": {
        "id": "OIiKfuUMJbe5",
        "colab_type": "code",
        "colab": {}
      },
      "source": [
        "from sklearn.model_selection import GridSearchCV\n",
        "\n",
        "parameters = {'n_estimators':[10, 20, 50, 100, 200, 500]}\n",
        "\n",
        "grid_obj = GridSearchCV(model, parameters)\n",
        "grid_fit = grid_obj.fit(trainX[['TimeStamp','Latitude','Longitude']],trainY)\n",
        "best_fit = grid_fit.best_estimator_\n",
        "best_fit.predict(testX[['TimeStamp','Latitude','Longitude']])"
      ],
      "execution_count": null,
      "outputs": []
    },
    {
      "cell_type": "markdown",
      "metadata": {
        "id": "0BMZJLc5HSrL",
        "colab_type": "text"
      },
      "source": [
        "# Neural Network"
      ]
    },
    {
      "cell_type": "code",
      "metadata": {
        "id": "szEmV-ICGS70",
        "colab_type": "code",
        "colab": {}
      },
      "source": [
        "from keras.models import Sequential\n",
        "from keras.layers import Dense\n",
        "\n",
        "def create_model(neurons, activation, optimizer, loss):\n",
        "    model=Sequential()\n",
        "    model.add(Dense(neurons,activation=activation,input_shape=(3,)))\n",
        "    model.add(Dense(neurons,activation=activation))\n",
        "    model.add(Dense(2,activation='softmax'))\n",
        "\n",
        "    model.compile(optimizer=optimizer,loss=loss,metrics=['accuracy'])\n",
        "\n",
        "    return model"
      ],
      "execution_count": 53,
      "outputs": []
    },
    {
      "cell_type": "code",
      "metadata": {
        "id": "7_ZpK1FMH5wM",
        "colab_type": "code",
        "colab": {}
      },
      "source": [
        "from keras.wrappers.scikit_learn import KerasRegressor"
      ],
      "execution_count": 54,
      "outputs": []
    },
    {
      "cell_type": "code",
      "metadata": {
        "id": "WpHL5PmPIi0a",
        "colab_type": "code",
        "colab": {}
      },
      "source": [
        "model=KerasRegressor(build_fn=create_model,verbose=0)\n",
        "neurons=[16]\n",
        "batch_size=[10]\n",
        "epochs=[10]\n",
        "activation=['sigmoid','relu']\n",
        "optimizer=['SGD','Adadelta']\n",
        "loss=['squared_hinge']\n",
        "\n",
        "param_grid=dict(neurons=neurons, batch_size=batch_size, epochs=epochs, activation=activation, optimizer=optimizer, loss=loss)"
      ],
      "execution_count": 61,
      "outputs": []
    },
    {
      "cell_type": "code",
      "metadata": {
        "id": "cgx8A-10JIwJ",
        "colab_type": "code",
        "colab": {
          "base_uri": "https://localhost:8080/",
          "height": 124
        },
        "outputId": "3d095472-4f6f-42c2-e3d3-e7a8a0a0bcf0"
      },
      "source": [
        "grid=GridSearchCV(estimator=model,param_grid=param_grid,n_jobs=-1)\n",
        "grid_result=grid.fit(trainX[['TimeStamp','Latitude','Longitude']],trainY)\n",
        "\n",
        "print('Best: {} using {}'.format(grid_result.best_score_,grid_result.best_params_))\n",
        "means = grid_result.cv_results_['mean_test_score']\n",
        "stds = grid_result.cv_results_['std_test_score']\n",
        "params = grid_result.cv_results_['params']\n",
        "for mean, stdev, param in zip(means, stds, params):\n",
        "    print(\"%f (%f) with: %r\" % (mean, stdev, param))"
      ],
      "execution_count": 63,
      "outputs": [
        {
          "output_type": "stream",
          "text": [
            "Best: -0.0037985400761557874 using {'activation': 'sigmoid', 'batch_size': 10, 'epochs': 10, 'loss': 'squared_hinge', 'neurons': 16, 'optimizer': 'Adadelta'}\n",
            "-0.003863 (0.000896) with: {'activation': 'sigmoid', 'batch_size': 10, 'epochs': 10, 'loss': 'squared_hinge', 'neurons': 16, 'optimizer': 'SGD'}\n",
            "-0.003799 (0.000880) with: {'activation': 'sigmoid', 'batch_size': 10, 'epochs': 10, 'loss': 'squared_hinge', 'neurons': 16, 'optimizer': 'Adadelta'}\n",
            "-0.003848 (0.000885) with: {'activation': 'relu', 'batch_size': 10, 'epochs': 10, 'loss': 'squared_hinge', 'neurons': 16, 'optimizer': 'SGD'}\n",
            "-0.003814 (0.000887) with: {'activation': 'relu', 'batch_size': 10, 'epochs': 10, 'loss': 'squared_hinge', 'neurons': 16, 'optimizer': 'Adadelta'}\n"
          ],
          "name": "stdout"
        }
      ]
    },
    {
      "cell_type": "code",
      "metadata": {
        "id": "AJvM5ErxLkT9",
        "colab_type": "code",
        "colab": {}
      },
      "source": [
        "model=Sequential()\n",
        "model.add(Dense(16,activation='relu',input_shape=(3,)))\n",
        "model.add(Dense(16,activation='relu'))\n",
        "model.add(Dense(2,activation='softmax'))\n",
        "model.compile(optimizer='SGD',loss='squared_hinge',metrics=['accuracy'])"
      ],
      "execution_count": 67,
      "outputs": []
    },
    {
      "cell_type": "code",
      "metadata": {
        "id": "UDM7fr1sNYLR",
        "colab_type": "code",
        "colab": {
          "base_uri": "https://localhost:8080/",
          "height": 1000
        },
        "outputId": "6b53031e-6a21-411c-cd0d-85c20b5f2a02"
      },
      "source": [
        "model.fit(trainX[['TimeStamp','Latitude','Longitude']],trainY,batch_size=10,epochs=30,verbose=1,validation_data=(testX[['TimeStamp','Latitude','Longitude']],testY))"
      ],
      "execution_count": 69,
      "outputs": [
        {
          "output_type": "stream",
          "text": [
            "Train on 21070 samples, validate on 2342 samples\n",
            "Epoch 1/30\n",
            "21070/21070 [==============================] - 2s 107us/step - loss: 0.0038 - accuracy: 0.5813 - val_loss: 0.0039 - val_accuracy: 0.5798\n",
            "Epoch 2/30\n",
            "21070/21070 [==============================] - 2s 100us/step - loss: 0.0038 - accuracy: 0.5900 - val_loss: 0.0039 - val_accuracy: 0.5892\n",
            "Epoch 3/30\n",
            "21070/21070 [==============================] - 2s 98us/step - loss: 0.0038 - accuracy: 0.6003 - val_loss: 0.0039 - val_accuracy: 0.5995\n",
            "Epoch 4/30\n",
            "21070/21070 [==============================] - 2s 100us/step - loss: 0.0038 - accuracy: 0.6121 - val_loss: 0.0039 - val_accuracy: 0.6067\n",
            "Epoch 5/30\n",
            "21070/21070 [==============================] - 2s 100us/step - loss: 0.0038 - accuracy: 0.6203 - val_loss: 0.0039 - val_accuracy: 0.6136\n",
            "Epoch 6/30\n",
            "21070/21070 [==============================] - 2s 99us/step - loss: 0.0038 - accuracy: 0.6285 - val_loss: 0.0039 - val_accuracy: 0.6243\n",
            "Epoch 7/30\n",
            "21070/21070 [==============================] - 2s 99us/step - loss: 0.0038 - accuracy: 0.6375 - val_loss: 0.0039 - val_accuracy: 0.6315\n",
            "Epoch 8/30\n",
            "21070/21070 [==============================] - 2s 100us/step - loss: 0.0038 - accuracy: 0.6456 - val_loss: 0.0039 - val_accuracy: 0.6383\n",
            "Epoch 9/30\n",
            "21070/21070 [==============================] - 2s 101us/step - loss: 0.0038 - accuracy: 0.6523 - val_loss: 0.0039 - val_accuracy: 0.6469\n",
            "Epoch 10/30\n",
            "21070/21070 [==============================] - 2s 100us/step - loss: 0.0038 - accuracy: 0.6593 - val_loss: 0.0039 - val_accuracy: 0.6529\n",
            "Epoch 11/30\n",
            "21070/21070 [==============================] - 2s 100us/step - loss: 0.0038 - accuracy: 0.6695 - val_loss: 0.0039 - val_accuracy: 0.6614\n",
            "Epoch 12/30\n",
            "21070/21070 [==============================] - 2s 102us/step - loss: 0.0038 - accuracy: 0.6766 - val_loss: 0.0039 - val_accuracy: 0.6657\n",
            "Epoch 13/30\n",
            "21070/21070 [==============================] - 2s 102us/step - loss: 0.0038 - accuracy: 0.6817 - val_loss: 0.0039 - val_accuracy: 0.6738\n",
            "Epoch 14/30\n",
            "21070/21070 [==============================] - 2s 103us/step - loss: 0.0038 - accuracy: 0.6878 - val_loss: 0.0039 - val_accuracy: 0.6802\n",
            "Epoch 15/30\n",
            "21070/21070 [==============================] - 2s 101us/step - loss: 0.0038 - accuracy: 0.6960 - val_loss: 0.0039 - val_accuracy: 0.6896\n",
            "Epoch 16/30\n",
            "21070/21070 [==============================] - 2s 101us/step - loss: 0.0038 - accuracy: 0.7005 - val_loss: 0.0039 - val_accuracy: 0.6951\n",
            "Epoch 17/30\n",
            "21070/21070 [==============================] - 2s 100us/step - loss: 0.0038 - accuracy: 0.7056 - val_loss: 0.0039 - val_accuracy: 0.7003\n",
            "Epoch 18/30\n",
            "21070/21070 [==============================] - 2s 101us/step - loss: 0.0038 - accuracy: 0.7106 - val_loss: 0.0039 - val_accuracy: 0.7050\n",
            "Epoch 19/30\n",
            "21070/21070 [==============================] - 2s 101us/step - loss: 0.0038 - accuracy: 0.7179 - val_loss: 0.0039 - val_accuracy: 0.7079\n",
            "Epoch 20/30\n",
            "21070/21070 [==============================] - 2s 100us/step - loss: 0.0038 - accuracy: 0.7228 - val_loss: 0.0039 - val_accuracy: 0.7143\n",
            "Epoch 21/30\n",
            "21070/21070 [==============================] - 2s 100us/step - loss: 0.0038 - accuracy: 0.7274 - val_loss: 0.0039 - val_accuracy: 0.7199\n",
            "Epoch 22/30\n",
            "21070/21070 [==============================] - 2s 101us/step - loss: 0.0038 - accuracy: 0.7328 - val_loss: 0.0039 - val_accuracy: 0.7267\n",
            "Epoch 23/30\n",
            "21070/21070 [==============================] - 2s 101us/step - loss: 0.0038 - accuracy: 0.7393 - val_loss: 0.0039 - val_accuracy: 0.7284\n",
            "Epoch 24/30\n",
            "21070/21070 [==============================] - 2s 100us/step - loss: 0.0038 - accuracy: 0.7445 - val_loss: 0.0039 - val_accuracy: 0.7327\n",
            "Epoch 25/30\n",
            "21070/21070 [==============================] - 2s 101us/step - loss: 0.0038 - accuracy: 0.7500 - val_loss: 0.0039 - val_accuracy: 0.7370\n",
            "Epoch 26/30\n",
            "21070/21070 [==============================] - 2s 100us/step - loss: 0.0038 - accuracy: 0.7556 - val_loss: 0.0039 - val_accuracy: 0.7400\n",
            "Epoch 27/30\n",
            "21070/21070 [==============================] - 2s 100us/step - loss: 0.0038 - accuracy: 0.7588 - val_loss: 0.0039 - val_accuracy: 0.7438\n",
            "Epoch 28/30\n",
            "21070/21070 [==============================] - 2s 102us/step - loss: 0.0038 - accuracy: 0.7634 - val_loss: 0.0039 - val_accuracy: 0.7489\n",
            "Epoch 29/30\n",
            "21070/21070 [==============================] - 2s 101us/step - loss: 0.0038 - accuracy: 0.7671 - val_loss: 0.0039 - val_accuracy: 0.7536\n",
            "Epoch 30/30\n",
            "21070/21070 [==============================] - 2s 99us/step - loss: 0.0038 - accuracy: 0.7730 - val_loss: 0.0039 - val_accuracy: 0.7588\n"
          ],
          "name": "stdout"
        },
        {
          "output_type": "execute_result",
          "data": {
            "text/plain": [
              "<keras.callbacks.callbacks.History at 0x7efee0a17a20>"
            ]
          },
          "metadata": {
            "tags": []
          },
          "execution_count": 69
        }
      ]
    },
    {
      "cell_type": "code",
      "metadata": {
        "id": "H5ym-NOTNrzG",
        "colab_type": "code",
        "colab": {
          "base_uri": "https://localhost:8080/",
          "height": 72
        },
        "outputId": "04f18a1e-29a8-4d31-d4c6-6a6501f3c84d"
      },
      "source": [
        "[test_loss, test_acc] = model.evaluate(testX[['TimeStamp','Latitude','Longitude']], testY)\n",
        "print(\"Evaluation result on Test Data : Loss = {}, accuracy = {}\".format(test_loss, test_acc))"
      ],
      "execution_count": 71,
      "outputs": [
        {
          "output_type": "stream",
          "text": [
            "2342/2342 [==============================] - 0s 19us/step\n",
            "Evaluation result on Test Data : Loss = 0.003900096092824876, accuracy = 0.7587531805038452\n"
          ],
          "name": "stdout"
        }
      ]
    },
    {
      "cell_type": "code",
      "metadata": {
        "id": "fog0Q3LSOgIe",
        "colab_type": "code",
        "colab": {}
      },
      "source": [
        ""
      ],
      "execution_count": null,
      "outputs": []
    }
  ]
}